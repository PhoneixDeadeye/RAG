{
 "cells": [
  {
   "cell_type": "markdown",
   "id": "37c0a440",
   "metadata": {},
   "source": [
    "### Data Ingestion"
   ]
  },
  {
   "cell_type": "markdown",
   "id": "6e892e8e",
   "metadata": {},
   "source": [
    "![alt text](1-langchain-document-components.svg)"
   ]
  },
  {
   "cell_type": "code",
   "execution_count": 8,
   "id": "88c7c007",
   "metadata": {},
   "outputs": [],
   "source": [
    "# Import Document class from langchain\n",
    "from langchain_core.documents import Document"
   ]
  },
  {
   "cell_type": "code",
   "execution_count": 9,
   "id": "a4a59913",
   "metadata": {},
   "outputs": [
    {
     "data": {
      "text/plain": [
       "Document(metadata={'source': 'example.txt', 'pages': 1, 'author': 'Rohan', 'date_created': '2025-10-05'}, page_content='This is the content of the document I am using to create RAG.')"
      ]
     },
     "execution_count": 9,
     "metadata": {},
     "output_type": "execute_result"
    }
   ],
   "source": [
    "doc = Document(\n",
    "    page_content=\"This is the content of the document I am using to create RAG.\",\n",
    "    metadata={\n",
    "        \"source\": \"example.txt\",\n",
    "        \"pages\": 1,\n",
    "        \"author\": \"Rohan\",\n",
    "        \"date_created\": \"2025-10-05\"\n",
    "    }\n",
    ")\n",
    "doc"
   ]
  },
  {
   "cell_type": "code",
   "execution_count": 10,
   "id": "3960c860",
   "metadata": {},
   "outputs": [],
   "source": [
    "## Create a simple txt file\n",
    "import os \n",
    "os.makedirs(\"../data/text_files\", exist_ok=True)"
   ]
  },
  {
   "cell_type": "code",
   "execution_count": 11,
   "id": "e0178ca2",
   "metadata": {},
   "outputs": [
    {
     "name": "stdout",
     "output_type": "stream",
     "text": [
      "Sample text files created successfully.\n"
     ]
    }
   ],
   "source": [
    "sample_texts = {\n",
    "    \"../data/text_files/python_intro.txt\": \"\"\"Python Programming Introduction\n",
    "\n",
    "Python is a high-level, interpreted programming language known for its simplicity and readability.\n",
    "It was created by Guido van Rossum and first released in 1991. Python supports multiple programming paradigms, \n",
    "including procedural, object-oriented, and functional programming.  \n",
    "\n",
    "Key Features of Python:\n",
    "- Easy to Learn and Use: Python's syntax is clear and concise, making it an excellent choice for beginners.\n",
    "- Extensive Standard Library: Python comes with a vast standard library that provides modules and functions for various tasks, such as file I/O, regular expressions, and web development.\n",
    "- Cross-Platform Compatibility: Python is available on various operating systems, including Windows, macOS, and Linux.\n",
    "- Large Community: Python has a vibrant community that contributes to a rich ecosystem of third-party libraries\n",
    "\"\"\"\n",
    "}\n",
    "\n",
    "for filepath, content in sample_texts.items():\n",
    "    with open(filepath, \"w\", encoding=\"utf-8\") as f:\n",
    "        f.write(content)\n",
    "\n",
    "print(\"Sample text files created successfully.\")"
   ]
  },
  {
   "cell_type": "code",
   "execution_count": 12,
   "id": "6f1b4e84",
   "metadata": {},
   "outputs": [
    {
     "name": "stdout",
     "output_type": "stream",
     "text": [
      "[Document(metadata={'source': '../data/text_files/python_intro.txt'}, page_content=\"Python Programming Introduction\\n\\nPython is a high-level, interpreted programming language known for its simplicity and readability.\\nIt was created by Guido van Rossum and first released in 1991. Python supports multiple programming paradigms, \\nincluding procedural, object-oriented, and functional programming.  \\n\\nKey Features of Python:\\n- Easy to Learn and Use: Python's syntax is clear and concise, making it an excellent choice for beginners.\\n- Extensive Standard Library: Python comes with a vast standard library that provides modules and functions for various tasks, such as file I/O, regular expressions, and web development.\\n- Cross-Platform Compatibility: Python is available on various operating systems, including Windows, macOS, and Linux.\\n- Large Community: Python has a vibrant community that contributes to a rich ecosystem of third-party libraries\\n\")]\n"
     ]
    }
   ],
   "source": [
    "# TextLoader - Load a single text file\n",
    "from langchain_community.document_loaders import TextLoader\n",
    "\n",
    "loader = TextLoader(\"../data/text_files/python_intro.txt\", encoding=\"utf-8\")\n",
    "document = loader.load()  # List of Document objects\n",
    "print(document)"
   ]
  },
  {
   "cell_type": "code",
   "execution_count": 13,
   "id": "cb9f7f33",
   "metadata": {},
   "outputs": [],
   "source": [
    "# Text Splitter - Split documents into smaller chunks\n",
    "from langchain_text_splitters import RecursiveCharacterTextSplitter\n",
    "\n",
    "\n",
    "def split_documents(documents, chunk_size=500, chunk_overlap=50):\n",
    "    \"\"\" Split documents into smaller chunks\n",
    "    Args:\n",
    "        documents: List of Document objects or raw strings.\n",
    "        chunk_size: Max characters per chunk.\n",
    "        chunk_overlap: Overlap between chunks.\n",
    "    Returns:\n",
    "        List of Document chunks\n",
    "    \"\"\"\n",
    "    # Validate inputs\n",
    "    if not documents:\n",
    "        raise ValueError(\"documents list cannot be empty\")\n",
    "    \n",
    "    if chunk_size <= 0:\n",
    "        raise ValueError(\"chunk_size must be positive\")\n",
    "    \n",
    "    if chunk_overlap < 0 or chunk_overlap >= chunk_size:\n",
    "        raise ValueError(\"chunk_overlap must be non-negative and less than chunk_size\")\n",
    "    \n",
    "    # ✅ Ensure all inputs are Document objects\n",
    "    if isinstance(documents[0], str):\n",
    "        documents = [Document(page_content=doc, metadata={}) for doc in documents]\n",
    "\n",
    "    text_splitter = RecursiveCharacterTextSplitter(\n",
    "        chunk_size=chunk_size,\n",
    "        chunk_overlap=chunk_overlap,\n",
    "        length_function=len,\n",
    "        separators=['\\n\\n', '\\n', ' ', '']\n",
    "    )\n",
    "    \n",
    "    split_docs = text_splitter.split_documents(documents)\n",
    "    print(f\"Split {len(documents)} documents into {len(split_docs)} chunks\")\n",
    "    \n",
    "    # show example of chunk\n",
    "    if split_docs:\n",
    "        print(f\"\\n Example chunk\")\n",
    "        print(f\"Content : {split_docs[0].page_content[:200]}...\")\n",
    "        print(f\"Metadata : {split_docs[0].metadata}\")\n",
    "    \n",
    "    return split_docs"
   ]
  },
  {
   "cell_type": "code",
   "execution_count": 14,
   "id": "6fae00b7",
   "metadata": {},
   "outputs": [
    {
     "name": "stderr",
     "output_type": "stream",
     "text": [
      "100%|██████████| 1/1 [00:00<?, ?it/s]\n",
      "100%|██████████| 1/1 [00:00<?, ?it/s]\n"
     ]
    },
    {
     "data": {
      "text/plain": [
       "[Document(metadata={'source': '..\\\\data\\\\text_files\\\\python_intro.txt'}, page_content=\"Python Programming Introduction\\n\\nPython is a high-level, interpreted programming language known for its simplicity and readability.\\nIt was created by Guido van Rossum and first released in 1991. Python supports multiple programming paradigms, \\nincluding procedural, object-oriented, and functional programming.  \\n\\nKey Features of Python:\\n- Easy to Learn and Use: Python's syntax is clear and concise, making it an excellent choice for beginners.\\n- Extensive Standard Library: Python comes with a vast standard library that provides modules and functions for various tasks, such as file I/O, regular expressions, and web development.\\n- Cross-Platform Compatibility: Python is available on various operating systems, including Windows, macOS, and Linux.\\n- Large Community: Python has a vibrant community that contributes to a rich ecosystem of third-party libraries\\n\")]"
      ]
     },
     "execution_count": 14,
     "metadata": {},
     "output_type": "execute_result"
    }
   ],
   "source": [
    "### Directory Loader\n",
    "from langchain_community.document_loaders import DirectoryLoader\n",
    "\n",
    "## Load all the text files from the directory\n",
    "dir_loader = DirectoryLoader(\n",
    "    \"../data/text_files\",\n",
    "    glob=\"**/*.txt\", ## Pattern to match files\n",
    "    loader_cls=TextLoader, ## Loader class to use for loading files\n",
    "    loader_kwargs={\"encoding\": \"utf-8\"}, ## Additional arguments for the loader class\n",
    "    show_progress=True\n",
    ")\n",
    "documents = dir_loader.load()\n",
    "documents"
   ]
  },
  {
   "cell_type": "code",
   "execution_count": 15,
   "id": "f21bb4d2",
   "metadata": {},
   "outputs": [
    {
     "name": "stderr",
     "output_type": "stream",
     "text": [
      "100%|██████████| 2/2 [00:00<00:00,  2.44it/s]\n",
      "100%|██████████| 2/2 [00:00<00:00,  2.44it/s]\n"
     ]
    },
    {
     "data": {
      "text/plain": [
       "[Document(metadata={'producer': 'pdfTeX-1.40.26', 'creator': 'LaTeX with hyperref', 'creationdate': '2025-08-27T08:25:26+00:00', 'source': '..\\\\data\\\\pdf_files\\\\rohan_cv_aug.pdf', 'file_path': '..\\\\data\\\\pdf_files\\\\rohan_cv_aug.pdf', 'total_pages': 1, 'format': 'PDF 1.5', 'title': '', 'author': '', 'subject': '', 'keywords': '', 'moddate': '2025-08-27T08:25:26+00:00', 'trapped': '', 'modDate': 'D:20250827082526Z', 'creationDate': 'D:20250827082526Z', 'page': 0}, page_content='GitHub: github.com/PhoneixDeadeye\\nLinkedIn: linkedin.com/in/rohan-agarwal007/\\nEmail: agarwalrohan2004@gmail.com\\nMobile: +91-9811229836\\nSkills\\nLanguages:\\nJava, C, C++, Python, HTML\\nFrameworks:\\nPandas, OpenCV, Tesseract OCR, Tkinter, TensorFlow, REST API, ComfyUI, AWS\\nTools/Platforms:\\nVS Code, IntelliJ IDEA, Git, GitHub, Canva, Linux/Unix\\nSoft Skills:\\nTime Management, Fast Learner, Leadership, Team Collaboration\\nTraining\\nSummer Training in Competitive Programming\\n• Mentored in algorithm design and optimization strategies for coding contests\\n• Applied core Data Structures and Algorithms to solve problems\\n• Developed a web-based N-Queen Solver with backtracking visualization\\nTech: C++, Java\\nJune 2024 – July 2024\\nProjects\\nYouTube-Powered Blog Generator using CrewAI Agents\\n• Developed a multi-agent AI system with CrewAI to generate blogs from YouTube content\\n• Designed prompt-based agents (Researcher & Writer) using Gemini 1.5 Flash for summarization and writing\\n• Integrated YouTube search and semantic parsing with Google Embeddings to extract insights\\n• Generated output in structured Markdown format for AI/ML blog publishing\\nTech Stack: Python, CrewAI, Gemini LLM, LangChain, Google Embeddings, YouTube API\\nJuly 2025\\nSmartEditor\\n• Built a GUI tool to extract OCR text from scanned documents using Tesseract OCR and OpenCV\\n• Enabled inline correction with synced image-text view and ground truth benchmarking\\n• Exported final outputs with word/character-level accuracy reports\\nTech Stack: Python, Tesseract OCR, Tkinter, OpenCV, Pandas\\nApril 2025\\nComfyUI: AI Image Generation Interface\\n• Built a prompt-based image generation tool in ComfyUI with real-time editing and modular workflows\\n• Integrated text-to-image, image-to-image, and upscaling for flexible input handling\\n• Supported customizable prompts and high-resolution outputs via workflow-based UI\\nTech Stack: ComfyUI, Stable Diffusion, Python\\nMarch 2025\\nFood Image Classification\\n• Built a deep learning model on the Food101 dataset with 101 food categories using EfficientNetB0 architecture\\n• Applied transfer learning and fine-tuning with mixed precision to speed up training and reduce memory usage\\n• Reached 80%+ accuracy via validation loss and TensorBoard monitoring\\nTech Stack: Python, TensorFlow, TensorBoard, Matplotlib, TensorFlow Hub\\nJanuary 2025\\nCertificates\\n• Cloud Computing – NPTEL, IIT Kharagpur\\nJuly – October 2024\\n• Introduction to Generative AI – Google Cloud (Coursera)\\nJanuary 2024\\nAchievements\\nLeetCode Problem Solving\\n• Solved 200+ problems in arrays, trees, graphs, stack, queues and dynamic programming\\nMay 2025\\nCleared Intra-College Smart India Hackathon\\n• Ranked in the top 50 out of 400 teams\\nSeptember 2024\\nEducation\\nLovely Professional University\\nPunjab, India\\nB.Tech, Computer Science (ML Specialization) CGPA: 8.17\\nSep 2022 – Present\\nSun Valley International School\\nGhaziabad, UP\\nClass XII (CBSE), PCM Stream; 90%\\nApr 2020 – Mar 2022\\nSun Valley International School\\nGhaziabad, UP\\nClass X (CBSE); 91%\\nApr 2019 – Mar 2020'),\n",
       " Document(metadata={'producer': 'Skia/PDF m127', 'creator': 'Chromium', 'creationdate': '2025-09-08T15:55:05+00:00', 'source': '..\\\\data\\\\pdf_files\\\\want the complete content_no omission.pdf', 'file_path': '..\\\\data\\\\pdf_files\\\\want the complete content_no omission.pdf', 'total_pages': 7, 'format': 'PDF 1.4', 'title': '', 'author': '', 'subject': '', 'keywords': '', 'moddate': '2025-09-08T15:55:05+00:00', 'trapped': '', 'modDate': \"D:20250908155505+00'00'\", 'creationDate': \"D:20250908155505+00'00'\", 'page': 0}, page_content=\"no omission\\nHere is the complete content structured as a proper document, with clear orientation,\\nindentation, and descriptive headings. No content has been omitted.\\nTo understand Vietnam now, imagine how things were in the 1980s. Things were difficult then.\\nThe nation was recovering from many years of fighting. The government managed the entire\\neconomy using a system named Bao Cấp, a centralized subsidy system.\\nThink about needing a coupon for each purchase—groceries, outfits, and gas for your car. This\\ndescribed a typical day. The government directed farms and factories, telling each what to\\nproduce. With no rivalry or motive to improve, things didn't go smoothly. Farmers did not\\nproduce sufficient crops, and Vietnam had to import rice to feed its people. Businesses\\nproduced old-fashioned items. The entire system stagnated.\\nBy 1986, the situation reached a crisis. Prices went way up, the nation had no money, and its\\ncitizens faced hard times. The government took a bold step and chose a big new path. This\\nmajor change was named Đổi Mới (Renovation). It was a total transformation of the country's\\noperations, like letting fresh air into a closed space.\\nwant the complete content\\nVietnam's Big Comeback Story\\nThe 1980s: A Difficult Past\\n1986: Crisis and Change\\nStep-by-Step Transformation\\nLand was returned to farmers. The large, unproductive collective farms were dismantled,\\nletting families manage land for long-term periods. Farmers now had a good reason for their\\nefforts. If their crops grew bigger, they could sell the surplus and keep the money. Vietnam\\nquickly changed from a nation struggling to feed its people to a leading global rice exporter.\\nPrices were liberalized. The government let supply and demand determine the prices of\\ngoods. Things were chaotic initially, but it forced companies to work smarter and focus on\\nwhat people desired.\\nPrivate enterprise was encouraged. For the first time in many years, individuals gained the\\nability to launch their own businesses. Small stores, family-run companies, and new\\nenterprises began appearing all over the country, creating jobs and offering a variety of new\\nproducts.\"),\n",
       " Document(metadata={'producer': 'Skia/PDF m127', 'creator': 'Chromium', 'creationdate': '2025-09-08T15:55:05+00:00', 'source': '..\\\\data\\\\pdf_files\\\\want the complete content_no omission.pdf', 'file_path': '..\\\\data\\\\pdf_files\\\\want the complete content_no omission.pdf', 'total_pages': 7, 'format': 'PDF 1.4', 'title': '', 'author': '', 'subject': '', 'keywords': '', 'moddate': '2025-09-08T15:55:05+00:00', 'trapped': '', 'modDate': \"D:20250908155505+00'00'\", 'creationDate': \"D:20250908155505+00'00'\", 'page': 1}, page_content=\"The changes from Đổi Mới created remarkable outcomes. Today, fewer than 5% of the\\npopulation lives in poverty, a big drop from over 50% in the past. The nation has become a\\nmanufacturing powerhouse, attracting businesses from all over the world.\\nVietnam’s economy today is powerful, developing quickly, and teeming with life. The country’s\\nfinancial situation has improved consistently, growing by 5 to 7 percent each year, among the\\nquickest rates globally.\\nThe government strives to maintain stability, watching prices carefully to keep them steady. This\\npredictability gives companies the confidence to invest for the future.\\nWhile challenges remain, such as improving local supply chains and preparing a workforce for\\nadvanced manufacturing, the overall outlook is very good.\\nToday, Vietnam is often talked about as a great place to do business, thanks to a combination of\\nclever decisions and strategic advantages.\\nVietnam opened its doors to the world. A 1987 law on foreign investment encouraged\\ncompanies from other countries to invest. This provided essential funds, fresh technology,\\nand new expertise.\\nA Snapshot of Vietnam's Economy Today\\nThree Key Factors Driving Growth\\nInvestment: The government invests heavily in constructing roads, ports, and power plants,\\nwhich helps companies operate more smoothly. Moreover, companies from other countries\\nare investing heavily by starting businesses.\\nConsumption: More people have disposable income now, so they are buying more things.\\nPeople desire new phones, improved food, and contemporary clothes. This creates a huge\\ndomestic market, and online shopping is growing quickly as more people use the internet.\\nExports: Exports form the third and most important driver of growth. Vietnam creates\\nproducts that people everywhere purchase. Many items you use daily, like shoes or your cell\\nphone, likely come from Vietnam.\\nSo, What's the Big Deal About Vietnam?\\nKey Advantages\\nPolitical Stability: The government is stable, so businesses can relax knowing that rules\\nwon’t shift quickly and disrupt their plans. This predictability is crucial for companies\\nconsidering major, long-term projects.\\nA Young and Dynamic Population: Vietnam is home to almost 100 million residents, with an\\naverage age of just 32. The nation has a large, energetic workforce eager to learn new\\nskills. High literacy rates make it easy to train people for new jobs.\\nStrategic Location: Vietnam boasts a long coastline along the South China Sea, a very\\nactive global shipping route. It’s simple to send products to customers in Asia and the rest\"),\n",
       " Document(metadata={'producer': 'Skia/PDF m127', 'creator': 'Chromium', 'creationdate': '2025-09-08T15:55:05+00:00', 'source': '..\\\\data\\\\pdf_files\\\\want the complete content_no omission.pdf', 'file_path': '..\\\\data\\\\pdf_files\\\\want the complete content_no omission.pdf', 'total_pages': 7, 'format': 'PDF 1.4', 'title': '', 'author': '', 'subject': '', 'keywords': '', 'moddate': '2025-09-08T15:55:05+00:00', 'trapped': '', 'modDate': \"D:20250908155505+00'00'\", 'creationDate': \"D:20250908155505+00'00'\", 'page': 2}, page_content='Vietnam\\'s success can be compared to a good recipe, combining a few important elements\\nbeautifully.\\nVietnam has a diverse manufacturing base and is a key player in many global industries.\\nThis sector fueled Vietnam’s initial manufacturing growth. Top clothing and shoe brands have\\nrelied on Vietnam for years. This industry employs many people and brings significant income\\ninto the nation. Now, Vietnamese businesses are moving up the value chain by creating their\\nown designs and sourcing their own materials to earn greater profits.\\nof the world. The country also borders China, making it easy to integrate into its large\\nnetwork of suppliers.\\nPro-Business Government: The government actively encourages business growth by\\nsimplifying rules and signing numerous free trade agreements. These agreements lower\\ntaxes on products made in Vietnam, making them more competitive globally.\\nVietnam\\'s Secret Sauce for Success\\nKey Ingredients\\nExport-Oriented Growth: The core strategy is to make things for the world. Vietnam has\\nworked to become a great manufacturing hub. The government offers advantages like\\nexcellent facilities and reduced taxes to companies that set up in designated zones to\\nproduce goods for export.\\nAttracting Foreign Direct Investment (FDI): The government recognized the need for\\noutside help and made the country welcoming to foreign investment. It understood that\\nforeign companies bring more than just money—they introduce new technology, modern\\nmanagement methods, and connections to customers worldwide.\\nThe \"China+1\" Strategy: As manufacturing costs in China have risen, businesses began\\nsearching for other countries to build factories and diversify their operations. Vietnam was a\\nnatural fit due to its proximity, lower costs, and similar work culture. This has led to a\\nsignificant influx of investment.\\nInfrastructure Development: Vietnam is investing heavily in building roads, bridges, and\\npower systems. A massive highway is being constructed to link the northern and southern\\nregions. New harbors for large cargo vessels are being built, and airports are being\\nexpanded.\\nA Deep Dive into What Vietnam Makes\\nTextiles & Footwear'),\n",
       " Document(metadata={'producer': 'Skia/PDF m127', 'creator': 'Chromium', 'creationdate': '2025-09-08T15:55:05+00:00', 'source': '..\\\\data\\\\pdf_files\\\\want the complete content_no omission.pdf', 'file_path': '..\\\\data\\\\pdf_files\\\\want the complete content_no omission.pdf', 'total_pages': 7, 'format': 'PDF 1.4', 'title': '', 'author': '', 'subject': '', 'keywords': '', 'moddate': '2025-09-08T15:55:05+00:00', 'trapped': '', 'modDate': \"D:20250908155505+00'00'\", 'creationDate': \"D:20250908155505+00'00'\", 'page': 3}, page_content=\"This is the modern face of Vietnam. The nation now plays a critical role in the global electronics\\nsupply chain. Samsung's large investment started this change; they now build a majority of their\\nphones there. Intel has built its largest chip testing facility in the world here. Apple’s partners are\\nalso gradually increasing the manufacturing of products like AirPods and MacBooks within the\\ncountry.\\nWith its fertile riverlands, Vietnam is a global food powerhouse.\\nThese sectors offer appealing future possibilities. Vietnam now has its own domestic car\\ncompany, VinFast. It is also the world's second-largest furniture exporter, building items for well-\\nknown stores like IKEA.\\nIndia and Vietnam share a close friendship, built on years of cooperation and mutual trust. In\\n2016, the relationship was elevated to a “Comprehensive Strategic Partnership,” the highest\\nlevel of connection Vietnam makes with other countries. This strong government relationship\\ncreates a comfortable and welcoming space for businesses from both nations to collaborate.\\nBilateral trade between India and Vietnam now exceeds $15 billion annually. The two economies\\nare complementary rather than competitive.\\nWe provide many of the inputs that Vietnamese factories use to make things, such as:\\nElectronics & Tech\\nAgriculture & Seafood\\nCoffee: Vietnam is the world's largest producer of Robusta coffee beans, the kind used in\\nmost instant coffee.\\nRice: The Mekong Delta makes Vietnam a leading rice seller worldwide.\\nOther Exports: The country is the world's top exporter of cashews and black pepper. Its\\nfarms also produce large quantities of shrimp and pangasius fish.\\nCars and Furniture\\nIndia and Vietnam: A Perfect Partnership\\nHow the Trade Works\\nIndia supplies the raw materials.\\nIron and steel for construction.\\nCotton and yarn for clothing plants.\\nBuffalo meat.\\nPharmaceutical ingredients.\"),\n",
       " Document(metadata={'producer': 'Skia/PDF m127', 'creator': 'Chromium', 'creationdate': '2025-09-08T15:55:05+00:00', 'source': '..\\\\data\\\\pdf_files\\\\want the complete content_no omission.pdf', 'file_path': '..\\\\data\\\\pdf_files\\\\want the complete content_no omission.pdf', 'total_pages': 7, 'format': 'PDF 1.4', 'title': '', 'author': '', 'subject': '', 'keywords': '', 'moddate': '2025-09-08T15:55:05+00:00', 'trapped': '', 'modDate': \"D:20250908155505+00'00'\", 'creationDate': \"D:20250908155505+00'00'\", 'page': 4}, page_content='Vietnam uses these materials to create valuable finished products, many of which are sold back\\nto India. These include:\\nCurrently, India has a trade deficit with Vietnam, meaning we buy more from them than we sell to\\nthem, largely due to high-value electronics imports. This highlights our reliance on their\\nmanufacturing capabilities and the close integration of our economies.\\nVietnam\\'s rapidly expanding market offers many opportunities that align well with India\\'s\\nstrengths.\\nAs incomes rise in Vietnam, the demand for better healthcare is growing. India, known as the\\n\"pharmacy of the world,\" has a great opportunity.\\nVietnam is experiencing rapid technological growth, with high smartphone penetration. This is a\\nprime market for India’s top-tier tech companies.\\nVietnam makes the finished goods.\\nSmartphones, computers, and other electronics.\\nComputer components and factory machinery.\\nCoffee and natural rubber.\\nBig Opportunities for Indian Businesses\\nPharma and Healthcare\\nIndian drug manufacturers can supply the high demand for medicines and pharmaceutical\\ningredients.\\nSetting up local manufacturing can provide better market access and help win government\\ncontracts.\\nThere is a significant need for medical equipment, from surgical tools to MRI scanners,\\nwhich Indian manufacturers can provide at competitive prices.\\nDigital, IT, and Fintech\\nVietnamese companies are undergoing a digital transformation and need help with software,\\ncloud services, and data management.\\nVietnam is aiming for a less-cash society. Indian businesses with expertise in digital payment\\nsystems like UPI can partner with Vietnamese banks.\\nThe online learning market is growing rapidly. Indian educational technology companies\\nhave well-developed platforms that could succeed in Vietnam.'),\n",
       " Document(metadata={'producer': 'Skia/PDF m127', 'creator': 'Chromium', 'creationdate': '2025-09-08T15:55:05+00:00', 'source': '..\\\\data\\\\pdf_files\\\\want the complete content_no omission.pdf', 'file_path': '..\\\\data\\\\pdf_files\\\\want the complete content_no omission.pdf', 'total_pages': 7, 'format': 'PDF 1.4', 'title': '', 'author': '', 'subject': '', 'keywords': '', 'moddate': '2025-09-08T15:55:05+00:00', 'trapped': '', 'modDate': \"D:20250908155505+00'00'\", 'creationDate': \"D:20250908155505+00'00'\", 'page': 5}, page_content='Both nations are agricultural powerhouses and can learn from each other. India can provide\\ntechnology to improve Vietnam’s farm productivity.\\nSuccess in Vietnam requires more than a good product; it requires understanding the culture.\\nBusiness is built on relationships, respect, and patience.\\nUnderstanding Vietnam\\'s business regulations is crucial to avoid delays and unnecessary costs.\\nVietnam is focused on facilitating smooth trade by removing barriers, boosting exports, and\\nattracting foreign investment. They have achieved this by signing numerous free trade\\nagreements that lower taxes and help Vietnamese products reach global markets.\\nFarming and Food Processing\\nOpportunities exist to sell drones for crop monitoring, low-cost irrigation tools, and software\\nfor supply chain management.\\nIndian businesses can invest in food processing facilities in Vietnam, turning fresh\\npineapples into juice or green coffee beans into instant coffee for domestic sale or global\\nexport.\\nHow to Do Business the Vietnamese Way\\nCore Etiquette\\nFriendship First, Business Second: Vietnamese people prefer to do business with those\\nthey like and trust. Initial meetings may feel more like casual conversations than formal\\nnegotiations. Take the time to build rapport through conversation and meals.\\nIt\\'s All About \"Face\": \"Face\" refers to a person\\'s dignity, reputation, and self-respect. It is\\ncrucial not to embarrass your Vietnamese counterpart. Never criticize them or point out\\nmistakes in front of others, especially their colleagues, as this could cause great shame and\\nend a deal. Address issues politely and in private.\\nCommunication is an Art: To maintain harmony, Vietnamese communication is often\\nindirect. A direct “no” is rare. Instead, you might hear phrases like, “This presents a\\nchallenge,” or “We should look into this further.” These often mean \"no.\" A local partner can\\nhelp you understand these nuances.\\nRespect the Hierarchy: Vietnamese companies are typically hierarchical. Respect for elders\\nand superiors is paramount. Address people by their formal titles (e.g., Director, Chairman).\\nWhen exchanging business cards, give and receive them with both hands and study the\\ncard for a moment before putting it away as a sign of respect.\\nPlaying by the Rules in Vietnam\\nThe Big Picture: Vietnam\\'s Trade Policy'),\n",
       " Document(metadata={'producer': 'Skia/PDF m127', 'creator': 'Chromium', 'creationdate': '2025-09-08T15:55:05+00:00', 'source': '..\\\\data\\\\pdf_files\\\\want the complete content_no omission.pdf', 'file_path': '..\\\\data\\\\pdf_files\\\\want the complete content_no omission.pdf', 'total_pages': 7, 'format': 'PDF 1.4', 'title': '', 'author': '', 'subject': '', 'keywords': '', 'moddate': '2025-09-08T15:55:05+00:00', 'trapped': '', 'modDate': \"D:20250908155505+00'00'\", 'creationDate': \"D:20250908155505+00'00'\", 'page': 6}, page_content=\"Vietnam's journey is one of the most encouraging economic success stories today. It shows what\\nis possible with a clear vision, hard work, and an open-door policy to the world.\\nFor India, Vietnam is more than just a market; it is a strategic partner. This relationship shows\\nhow two developing nations can cooperate to build a prosperous future. The synergy is clear:\\nVietnamese industry needs Indian cotton and steel. Indian technology can help power Vietnam's\\ndigital future. And Indian medical expertise can help improve the lives of the Vietnamese people.\\nAs our nations continue to grow and assume greater roles on the world stage, this partnership\\nwill only become more important, built on a foundation of mutual trust and shared goals.\\nLet's Talk Taxes and Tariffs\\nYour best tool: The AIFTA. The ASEAN-India Free Trade Agreement (AIFTA) is the most\\nimportant tool for Indian businesses. It significantly lowers taxes (tariffs) on most goods\\ntraded between India and Vietnam, often to between 0% and 5%.\\nThe Problem: Rules of Origin. To benefit from the lower AIFTA tariff rate, you must prove\\nyour product originates in India. Simply shipping it from India isn't enough; a certain\\npercentage of its value must be added there. Ensure your Certificate of Origin and other\\ndocumentation are perfectly accurate, as mistakes can lead to higher taxes.\\nMore Than Just Taxes: Other Hurdles to Watch\\nProtect Your Intellectual Property: While Vietnam is improving its IP laws, counterfeit goods\\ncan still be an issue. Register your trademarks and patents in Vietnam before you start\\nselling.\\nFollow Local Standards: Vietnam has specific technical and quality standards to protect\\nconsumers. Electronics must meet safety and energy efficiency guidelines. Food products\\nmust have labels in the Vietnamese language. Research the specific rules for your product\\nearly on.\\nDealing with Bureaucracy: Customs clearance can still involve significant paperwork and\\nslow processes. It is smart to work with a reliable local customs broker who knows the\\nsystem, can handle documentation, and get your goods from the port to their final\\ndestination efficiently.\\nWeaving a Future Together\")]"
      ]
     },
     "execution_count": 15,
     "metadata": {},
     "output_type": "execute_result"
    }
   ],
   "source": [
    "from langchain_community.document_loaders import PyPDFLoader, PyMuPDFLoader\n",
    "\n",
    "## Load all the PDF files from the directory\n",
    "dir_loader = DirectoryLoader(\n",
    "    \"../data/pdf_files\",\n",
    "    glob=\"**/*.pdf\", ## Pattern to match files\n",
    "    loader_cls=PyMuPDFLoader, ## Loader class to use for loading files\n",
    "    # PyMuPDF's page.get_text does not accept an 'encoding' kwarg; remove it to avoid TypeError\n",
    "    loader_kwargs={}, ## Additional arguments for the loader class\n",
    "    show_progress=True\n",
    ")\n",
    "\n",
    "pdf_documents = dir_loader.load()\n",
    "pdf_documents"
   ]
  },
  {
   "cell_type": "code",
   "execution_count": 16,
   "id": "e7842d56",
   "metadata": {},
   "outputs": [
    {
     "name": "stdout",
     "output_type": "stream",
     "text": [
      "Split 8 documents into 41 chunks\n",
      "\n",
      " Example chunk\n",
      "Content : GitHub: github.com/PhoneixDeadeye\n",
      "LinkedIn: linkedin.com/in/rohan-agarwal007/\n",
      "Email: agarwalrohan2004@gmail.com\n",
      "Mobile: +91-9811229836\n",
      "Skills\n",
      "Languages:\n",
      "Java, C, C++, Python, HTML\n",
      "Frameworks:\n",
      "Pandas, ...\n",
      "Metadata : {'producer': 'pdfTeX-1.40.26', 'creator': 'LaTeX with hyperref', 'creationdate': '2025-08-27T08:25:26+00:00', 'source': '..\\\\data\\\\pdf_files\\\\rohan_cv_aug.pdf', 'file_path': '..\\\\data\\\\pdf_files\\\\rohan_cv_aug.pdf', 'total_pages': 1, 'format': 'PDF 1.5', 'title': '', 'author': '', 'subject': '', 'keywords': '', 'moddate': '2025-08-27T08:25:26+00:00', 'trapped': '', 'modDate': 'D:20250827082526Z', 'creationDate': 'D:20250827082526Z', 'page': 0}\n",
      "Total PDF chunks created: 41\n"
     ]
    }
   ],
   "source": [
    "# Split the PDF documents into chunks for better retrieval\n",
    "# Using appropriate chunk size for PDF content\n",
    "pdf_chunks = split_documents(pdf_documents, chunk_size=500, chunk_overlap=50)\n",
    "print(f\"Total PDF chunks created: {len(pdf_chunks)}\")"
   ]
  },
  {
   "cell_type": "code",
   "execution_count": 17,
   "id": "c863b365",
   "metadata": {},
   "outputs": [
    {
     "data": {
      "text/plain": [
       "langchain_core.documents.base.Document"
      ]
     },
     "execution_count": 17,
     "metadata": {},
     "output_type": "execute_result"
    }
   ],
   "source": [
    "type(pdf_documents[0])"
   ]
  },
  {
   "cell_type": "code",
   "execution_count": 18,
   "id": "c6fd25ed",
   "metadata": {},
   "outputs": [],
   "source": [
    "# Import required libraries for embeddings and vector store\n",
    "import numpy as np\n",
    "from sentence_transformers import SentenceTransformer\n",
    "import chromadb\n",
    "from chromadb.config import Settings\n",
    "import uuid\n",
    "from typing import List, Dict, Any, Tuple"
   ]
  },
  {
   "cell_type": "code",
   "execution_count": 19,
   "id": "e5c2f866",
   "metadata": {},
   "outputs": [
    {
     "name": "stdout",
     "output_type": "stream",
     "text": [
      "Loading embedding model: all-MiniLM-L6-v2\n",
      "Model Loaded successfully. Embedding Dimension: 384\n",
      "Model Loaded successfully. Embedding Dimension: 384\n"
     ]
    },
    {
     "data": {
      "text/plain": [
       "<__main__.EmbeddingManager at 0x2448b5f3ed0>"
      ]
     },
     "execution_count": 19,
     "metadata": {},
     "output_type": "execute_result"
    }
   ],
   "source": [
    "class EmbeddingManager:\n",
    "    \"\"\"Handles document embedding generation using SentenceTransformer\"\"\"\n",
    "    def __init__(self, model_name: str=\"all-MiniLM-L6-v2\"):\n",
    "        \"\"\"\n",
    "        Initialize the embedding manager with a specified model.\n",
    "\n",
    "        Args:\n",
    "            model_name (str): Name of the pre-trained model to use.\n",
    "        \"\"\"\n",
    "        self.model_name = model_name\n",
    "        self.model = None\n",
    "        self._load_model()\n",
    "\n",
    "    def _load_model(self):\n",
    "        \"\"\"Load the SentenceTransformer model.\"\"\"\n",
    "        try:\n",
    "            print(f\"Loading embedding model: {self.model_name}\")\n",
    "            self.model = SentenceTransformer(self.model_name)\n",
    "            print(f\"Model Loaded successfully. Embedding Dimension: {self.model.get_sentence_embedding_dimension()}\")\n",
    "        except Exception as e:\n",
    "            print(f\"Error loading model {self.model_name}: {e}\")\n",
    "            raise\n",
    "\n",
    "    def generate_embeddings(self, texts: List[str]) -> np.ndarray:\n",
    "        \"\"\"\n",
    "        Generate embeddings for a list of texts.\n",
    "\n",
    "        Args:\n",
    "            texts (List[str]): List of text strings to embed.\n",
    "\n",
    "        Returns:\n",
    "            Numpy Array of embeddings with shape (len(texts), embedding_dimension).\n",
    "        \"\"\"\n",
    "        if not self.model:\n",
    "            raise ValueError(\"Model not loaded. Call load_model() before generating embeddings.\")\n",
    "        \n",
    "        print(f\"Generating embeddings for {len(texts)} texts...\")\n",
    "        embeddings = self.model.encode(texts, show_progress_bar=True)\n",
    "        print(f\"Generated embeddings with shape: {embeddings.shape}\")\n",
    "        return embeddings\n",
    "    \n",
    "    def get_embedding_dimension(self) -> int:\n",
    "        \"\"\"Get the dimension of the embeddings.\"\"\"\n",
    "        if not self.model:\n",
    "            raise ValueError(\"Model not loaded. Call load_model() before getting embedding dimension.\")\n",
    "        return self.model.get_sentence_embedding_dimension()\n",
    "\n",
    "## Initialize the Embedding Manager\n",
    "\n",
    "embedding_manager = EmbeddingManager()\n",
    "embedding_manager"
   ]
  },
  {
   "cell_type": "markdown",
   "id": "68b19c2d",
   "metadata": {},
   "source": [
    "### VectorStore"
   ]
  },
  {
   "cell_type": "code",
   "execution_count": 20,
   "id": "9042d762",
   "metadata": {},
   "outputs": [
    {
     "name": "stdout",
     "output_type": "stream",
     "text": [
      "ChromaDB collection 'pdf_documents' initialized successfully.\n",
      "Existing documents in collection: 82\n"
     ]
    },
    {
     "data": {
      "text/plain": [
       "<__main__.VectorStore at 0x2448b732150>"
      ]
     },
     "execution_count": 20,
     "metadata": {},
     "output_type": "execute_result"
    }
   ],
   "source": [
    "import os\n",
    "class VectorStore:\n",
    "    \"\"\"Manages document embeddings in a ChromaDB vector store.\"\"\"\n",
    "\n",
    "    def __init__(self, collection_name: str=\"pdf_documents\", persist_directory: str = \"../data/vector_store\"):\n",
    "        \"\"\"\n",
    "        Initialize the vector store\n",
    "        \n",
    "        Args:\n",
    "            collection_name (str): Name of the ChromaDB collection.\n",
    "            persist_directory (str): Directory to persist the vector store data.\n",
    "        \"\"\"\n",
    "\n",
    "        self.collection_name = collection_name\n",
    "        self.persist_directory = persist_directory\n",
    "        self.client = None\n",
    "        self.collection = None\n",
    "        self._initialize_vector_store()\n",
    "    \n",
    "    def _initialize_vector_store(self):\n",
    "        \"\"\"Initialize the ChromaDB client and collection.\"\"\"\n",
    "        try:\n",
    "            # Create persist ChromaDB client (ChromaDB v0.4+ uses PersistentClient)\n",
    "            os.makedirs(self.persist_directory, exist_ok=True)\n",
    "            self.client = chromadb.PersistentClient(path=self.persist_directory)\n",
    "\n",
    "            # Get or create collection with COSINE similarity metric\n",
    "            self.collection = self.client.get_or_create_collection(\n",
    "                name=self.collection_name,\n",
    "                metadata={\"hnsw:space\": \"cosine\", \"description\": \"PDF document embeddings for RAG\"})\n",
    "            print(f\"ChromaDB collection '{self.collection_name}' initialized successfully.\")\n",
    "            print(f\"Existing documents in collection: {self.collection.count()}\")\n",
    "\n",
    "        except Exception as e:\n",
    "            print(f\"Error initializing ChromaDB: {e}\")\n",
    "            raise\n",
    "    \n",
    "    def add_documents(self, documents: List[Any], embeddings: np.ndarray):\n",
    "        \"\"\"\n",
    "        Add documents and their embeddings to the vector store.\n",
    "\n",
    "        Args:\n",
    "            documents (List[Any]): List of Langchain Document.\n",
    "            embeddings (np.ndarray): Corresponding embeddings for the documents.\n",
    "        \"\"\"\n",
    "        if len(documents) != len(embeddings):\n",
    "            raise ValueError(\"Number of documents must match number of embeddings.\")\n",
    "        \n",
    "        print(f\"Adding {len(documents)} documents to the vector store...\")\n",
    "\n",
    "        # Prepare data for insertion        \n",
    "        ids = []\n",
    "        metadatas = []\n",
    "        documents_text = []\n",
    "        embeddings_list = []\n",
    "\n",
    "        for i, (doc, embedding) in enumerate(zip(documents, embeddings)):\n",
    "            # Generate a unique ID for each document\n",
    "            doc_id = f\"doc_{uuid.uuid4().hex[:8]}_{i}\"\n",
    "            ids.append(doc_id)\n",
    "\n",
    "            # Prepare metadata\n",
    "            metadata = dict(doc.metadata)\n",
    "            metadata['doc_index'] = i\n",
    "            metadata['content_length'] = len(doc.page_content)\n",
    "            metadatas.append(metadata)\n",
    "\n",
    "            # Document text\n",
    "            documents_text.append(doc.page_content)\n",
    "\n",
    "            # Embedding\n",
    "            embeddings_list.append(embedding.tolist()) \n",
    "        \n",
    "        # Add to collection\n",
    "        try:\n",
    "            self.collection.add(\n",
    "                ids=ids,\n",
    "                metadatas=metadatas,\n",
    "                documents=documents_text,\n",
    "                embeddings=embeddings_list\n",
    "            )\n",
    "            print(f\"Successfully added {len(documents)} documents. Total documents in collection: {self.collection.count()}\")\n",
    "        except Exception as e:\n",
    "            print(f\"Error adding documents to ChromaDB: {e}\")\n",
    "            raise\n",
    "\n",
    "vectorstore = VectorStore()\n",
    "vectorstore"
   ]
  },
  {
   "cell_type": "markdown",
   "id": "6d672743",
   "metadata": {},
   "source": [
    "# ⚠️ ONE-TIME FIX: Delete old collection and recreate with cosine similarity\n",
    "# Run this cell ONCE if you have old data, then you can delete this cell\n",
    "vectorstore.client.delete_collection(name=\"pdf_documents\")\n",
    "vectorstore = VectorStore()\n",
    "print(\"✅ Vector store recreated with cosine similarity\")"
   ]
  },
  {
   "cell_type": "code",
   "execution_count": 21,
   "id": "9e27c91f",
   "metadata": {},
   "outputs": [
    {
     "data": {
      "text/plain": [
       "[Document(metadata={'producer': 'pdfTeX-1.40.26', 'creator': 'LaTeX with hyperref', 'creationdate': '2025-08-27T08:25:26+00:00', 'source': '..\\\\data\\\\pdf_files\\\\rohan_cv_aug.pdf', 'file_path': '..\\\\data\\\\pdf_files\\\\rohan_cv_aug.pdf', 'total_pages': 1, 'format': 'PDF 1.5', 'title': '', 'author': '', 'subject': '', 'keywords': '', 'moddate': '2025-08-27T08:25:26+00:00', 'trapped': '', 'modDate': 'D:20250827082526Z', 'creationDate': 'D:20250827082526Z', 'page': 0}, page_content='GitHub: github.com/PhoneixDeadeye\\nLinkedIn: linkedin.com/in/rohan-agarwal007/\\nEmail: agarwalrohan2004@gmail.com\\nMobile: +91-9811229836\\nSkills\\nLanguages:\\nJava, C, C++, Python, HTML\\nFrameworks:\\nPandas, OpenCV, Tesseract OCR, Tkinter, TensorFlow, REST API, ComfyUI, AWS\\nTools/Platforms:\\nVS Code, IntelliJ IDEA, Git, GitHub, Canva, Linux/Unix\\nSoft Skills:\\nTime Management, Fast Learner, Leadership, Team Collaboration\\nTraining\\nSummer Training in Competitive Programming'),\n",
       " Document(metadata={'producer': 'pdfTeX-1.40.26', 'creator': 'LaTeX with hyperref', 'creationdate': '2025-08-27T08:25:26+00:00', 'source': '..\\\\data\\\\pdf_files\\\\rohan_cv_aug.pdf', 'file_path': '..\\\\data\\\\pdf_files\\\\rohan_cv_aug.pdf', 'total_pages': 1, 'format': 'PDF 1.5', 'title': '', 'author': '', 'subject': '', 'keywords': '', 'moddate': '2025-08-27T08:25:26+00:00', 'trapped': '', 'modDate': 'D:20250827082526Z', 'creationDate': 'D:20250827082526Z', 'page': 0}, page_content='Summer Training in Competitive Programming\\n• Mentored in algorithm design and optimization strategies for coding contests\\n• Applied core Data Structures and Algorithms to solve problems\\n• Developed a web-based N-Queen Solver with backtracking visualization\\nTech: C++, Java\\nJune 2024 – July 2024\\nProjects\\nYouTube-Powered Blog Generator using CrewAI Agents\\n• Developed a multi-agent AI system with CrewAI to generate blogs from YouTube content'),\n",
       " Document(metadata={'producer': 'pdfTeX-1.40.26', 'creator': 'LaTeX with hyperref', 'creationdate': '2025-08-27T08:25:26+00:00', 'source': '..\\\\data\\\\pdf_files\\\\rohan_cv_aug.pdf', 'file_path': '..\\\\data\\\\pdf_files\\\\rohan_cv_aug.pdf', 'total_pages': 1, 'format': 'PDF 1.5', 'title': '', 'author': '', 'subject': '', 'keywords': '', 'moddate': '2025-08-27T08:25:26+00:00', 'trapped': '', 'modDate': 'D:20250827082526Z', 'creationDate': 'D:20250827082526Z', 'page': 0}, page_content='• Designed prompt-based agents (Researcher & Writer) using Gemini 1.5 Flash for summarization and writing\\n• Integrated YouTube search and semantic parsing with Google Embeddings to extract insights\\n• Generated output in structured Markdown format for AI/ML blog publishing\\nTech Stack: Python, CrewAI, Gemini LLM, LangChain, Google Embeddings, YouTube API\\nJuly 2025\\nSmartEditor\\n• Built a GUI tool to extract OCR text from scanned documents using Tesseract OCR and OpenCV'),\n",
       " Document(metadata={'producer': 'pdfTeX-1.40.26', 'creator': 'LaTeX with hyperref', 'creationdate': '2025-08-27T08:25:26+00:00', 'source': '..\\\\data\\\\pdf_files\\\\rohan_cv_aug.pdf', 'file_path': '..\\\\data\\\\pdf_files\\\\rohan_cv_aug.pdf', 'total_pages': 1, 'format': 'PDF 1.5', 'title': '', 'author': '', 'subject': '', 'keywords': '', 'moddate': '2025-08-27T08:25:26+00:00', 'trapped': '', 'modDate': 'D:20250827082526Z', 'creationDate': 'D:20250827082526Z', 'page': 0}, page_content='• Enabled inline correction with synced image-text view and ground truth benchmarking\\n• Exported final outputs with word/character-level accuracy reports\\nTech Stack: Python, Tesseract OCR, Tkinter, OpenCV, Pandas\\nApril 2025\\nComfyUI: AI Image Generation Interface\\n• Built a prompt-based image generation tool in ComfyUI with real-time editing and modular workflows\\n• Integrated text-to-image, image-to-image, and upscaling for flexible input handling'),\n",
       " Document(metadata={'producer': 'pdfTeX-1.40.26', 'creator': 'LaTeX with hyperref', 'creationdate': '2025-08-27T08:25:26+00:00', 'source': '..\\\\data\\\\pdf_files\\\\rohan_cv_aug.pdf', 'file_path': '..\\\\data\\\\pdf_files\\\\rohan_cv_aug.pdf', 'total_pages': 1, 'format': 'PDF 1.5', 'title': '', 'author': '', 'subject': '', 'keywords': '', 'moddate': '2025-08-27T08:25:26+00:00', 'trapped': '', 'modDate': 'D:20250827082526Z', 'creationDate': 'D:20250827082526Z', 'page': 0}, page_content='• Supported customizable prompts and high-resolution outputs via workflow-based UI\\nTech Stack: ComfyUI, Stable Diffusion, Python\\nMarch 2025\\nFood Image Classification\\n• Built a deep learning model on the Food101 dataset with 101 food categories using EfficientNetB0 architecture\\n• Applied transfer learning and fine-tuning with mixed precision to speed up training and reduce memory usage\\n• Reached 80%+ accuracy via validation loss and TensorBoard monitoring'),\n",
       " Document(metadata={'producer': 'pdfTeX-1.40.26', 'creator': 'LaTeX with hyperref', 'creationdate': '2025-08-27T08:25:26+00:00', 'source': '..\\\\data\\\\pdf_files\\\\rohan_cv_aug.pdf', 'file_path': '..\\\\data\\\\pdf_files\\\\rohan_cv_aug.pdf', 'total_pages': 1, 'format': 'PDF 1.5', 'title': '', 'author': '', 'subject': '', 'keywords': '', 'moddate': '2025-08-27T08:25:26+00:00', 'trapped': '', 'modDate': 'D:20250827082526Z', 'creationDate': 'D:20250827082526Z', 'page': 0}, page_content='Tech Stack: Python, TensorFlow, TensorBoard, Matplotlib, TensorFlow Hub\\nJanuary 2025\\nCertificates\\n• Cloud Computing – NPTEL, IIT Kharagpur\\nJuly – October 2024\\n• Introduction to Generative AI – Google Cloud (Coursera)\\nJanuary 2024\\nAchievements\\nLeetCode Problem Solving\\n• Solved 200+ problems in arrays, trees, graphs, stack, queues and dynamic programming\\nMay 2025\\nCleared Intra-College Smart India Hackathon\\n• Ranked in the top 50 out of 400 teams\\nSeptember 2024\\nEducation'),\n",
       " Document(metadata={'producer': 'pdfTeX-1.40.26', 'creator': 'LaTeX with hyperref', 'creationdate': '2025-08-27T08:25:26+00:00', 'source': '..\\\\data\\\\pdf_files\\\\rohan_cv_aug.pdf', 'file_path': '..\\\\data\\\\pdf_files\\\\rohan_cv_aug.pdf', 'total_pages': 1, 'format': 'PDF 1.5', 'title': '', 'author': '', 'subject': '', 'keywords': '', 'moddate': '2025-08-27T08:25:26+00:00', 'trapped': '', 'modDate': 'D:20250827082526Z', 'creationDate': 'D:20250827082526Z', 'page': 0}, page_content='September 2024\\nEducation\\nLovely Professional University\\nPunjab, India\\nB.Tech, Computer Science (ML Specialization) CGPA: 8.17\\nSep 2022 – Present\\nSun Valley International School\\nGhaziabad, UP\\nClass XII (CBSE), PCM Stream; 90%\\nApr 2020 – Mar 2022\\nSun Valley International School\\nGhaziabad, UP\\nClass X (CBSE); 91%\\nApr 2019 – Mar 2020'),\n",
       " Document(metadata={'producer': 'Skia/PDF m127', 'creator': 'Chromium', 'creationdate': '2025-09-08T15:55:05+00:00', 'source': '..\\\\data\\\\pdf_files\\\\want the complete content_no omission.pdf', 'file_path': '..\\\\data\\\\pdf_files\\\\want the complete content_no omission.pdf', 'total_pages': 7, 'format': 'PDF 1.4', 'title': '', 'author': '', 'subject': '', 'keywords': '', 'moddate': '2025-09-08T15:55:05+00:00', 'trapped': '', 'modDate': \"D:20250908155505+00'00'\", 'creationDate': \"D:20250908155505+00'00'\", 'page': 0}, page_content='no omission\\nHere is the complete content structured as a proper document, with clear orientation,\\nindentation, and descriptive headings. No content has been omitted.\\nTo understand Vietnam now, imagine how things were in the 1980s. Things were difficult then.\\nThe nation was recovering from many years of fighting. The government managed the entire\\neconomy using a system named Bao Cấp, a centralized subsidy system.'),\n",
       " Document(metadata={'producer': 'Skia/PDF m127', 'creator': 'Chromium', 'creationdate': '2025-09-08T15:55:05+00:00', 'source': '..\\\\data\\\\pdf_files\\\\want the complete content_no omission.pdf', 'file_path': '..\\\\data\\\\pdf_files\\\\want the complete content_no omission.pdf', 'total_pages': 7, 'format': 'PDF 1.4', 'title': '', 'author': '', 'subject': '', 'keywords': '', 'moddate': '2025-09-08T15:55:05+00:00', 'trapped': '', 'modDate': \"D:20250908155505+00'00'\", 'creationDate': \"D:20250908155505+00'00'\", 'page': 0}, page_content=\"Think about needing a coupon for each purchase—groceries, outfits, and gas for your car. This\\ndescribed a typical day. The government directed farms and factories, telling each what to\\nproduce. With no rivalry or motive to improve, things didn't go smoothly. Farmers did not\\nproduce sufficient crops, and Vietnam had to import rice to feed its people. Businesses\\nproduced old-fashioned items. The entire system stagnated.\"),\n",
       " Document(metadata={'producer': 'Skia/PDF m127', 'creator': 'Chromium', 'creationdate': '2025-09-08T15:55:05+00:00', 'source': '..\\\\data\\\\pdf_files\\\\want the complete content_no omission.pdf', 'file_path': '..\\\\data\\\\pdf_files\\\\want the complete content_no omission.pdf', 'total_pages': 7, 'format': 'PDF 1.4', 'title': '', 'author': '', 'subject': '', 'keywords': '', 'moddate': '2025-09-08T15:55:05+00:00', 'trapped': '', 'modDate': \"D:20250908155505+00'00'\", 'creationDate': \"D:20250908155505+00'00'\", 'page': 0}, page_content=\"By 1986, the situation reached a crisis. Prices went way up, the nation had no money, and its\\ncitizens faced hard times. The government took a bold step and chose a big new path. This\\nmajor change was named Đổi Mới (Renovation). It was a total transformation of the country's\\noperations, like letting fresh air into a closed space.\\nwant the complete content\\nVietnam's Big Comeback Story\\nThe 1980s: A Difficult Past\\n1986: Crisis and Change\\nStep-by-Step Transformation\"),\n",
       " Document(metadata={'producer': 'Skia/PDF m127', 'creator': 'Chromium', 'creationdate': '2025-09-08T15:55:05+00:00', 'source': '..\\\\data\\\\pdf_files\\\\want the complete content_no omission.pdf', 'file_path': '..\\\\data\\\\pdf_files\\\\want the complete content_no omission.pdf', 'total_pages': 7, 'format': 'PDF 1.4', 'title': '', 'author': '', 'subject': '', 'keywords': '', 'moddate': '2025-09-08T15:55:05+00:00', 'trapped': '', 'modDate': \"D:20250908155505+00'00'\", 'creationDate': \"D:20250908155505+00'00'\", 'page': 0}, page_content='Step-by-Step Transformation\\nLand was returned to farmers. The large, unproductive collective farms were dismantled,\\nletting families manage land for long-term periods. Farmers now had a good reason for their\\nefforts. If their crops grew bigger, they could sell the surplus and keep the money. Vietnam\\nquickly changed from a nation struggling to feed its people to a leading global rice exporter.\\nPrices were liberalized. The government let supply and demand determine the prices of'),\n",
       " Document(metadata={'producer': 'Skia/PDF m127', 'creator': 'Chromium', 'creationdate': '2025-09-08T15:55:05+00:00', 'source': '..\\\\data\\\\pdf_files\\\\want the complete content_no omission.pdf', 'file_path': '..\\\\data\\\\pdf_files\\\\want the complete content_no omission.pdf', 'total_pages': 7, 'format': 'PDF 1.4', 'title': '', 'author': '', 'subject': '', 'keywords': '', 'moddate': '2025-09-08T15:55:05+00:00', 'trapped': '', 'modDate': \"D:20250908155505+00'00'\", 'creationDate': \"D:20250908155505+00'00'\", 'page': 0}, page_content='goods. Things were chaotic initially, but it forced companies to work smarter and focus on\\nwhat people desired.\\nPrivate enterprise was encouraged. For the first time in many years, individuals gained the\\nability to launch their own businesses. Small stores, family-run companies, and new\\nenterprises began appearing all over the country, creating jobs and offering a variety of new\\nproducts.'),\n",
       " Document(metadata={'producer': 'Skia/PDF m127', 'creator': 'Chromium', 'creationdate': '2025-09-08T15:55:05+00:00', 'source': '..\\\\data\\\\pdf_files\\\\want the complete content_no omission.pdf', 'file_path': '..\\\\data\\\\pdf_files\\\\want the complete content_no omission.pdf', 'total_pages': 7, 'format': 'PDF 1.4', 'title': '', 'author': '', 'subject': '', 'keywords': '', 'moddate': '2025-09-08T15:55:05+00:00', 'trapped': '', 'modDate': \"D:20250908155505+00'00'\", 'creationDate': \"D:20250908155505+00'00'\", 'page': 1}, page_content='The changes from Đổi Mới created remarkable outcomes. Today, fewer than 5% of the\\npopulation lives in poverty, a big drop from over 50% in the past. The nation has become a\\nmanufacturing powerhouse, attracting businesses from all over the world.\\nVietnam’s economy today is powerful, developing quickly, and teeming with life. The country’s\\nfinancial situation has improved consistently, growing by 5 to 7 percent each year, among the\\nquickest rates globally.'),\n",
       " Document(metadata={'producer': 'Skia/PDF m127', 'creator': 'Chromium', 'creationdate': '2025-09-08T15:55:05+00:00', 'source': '..\\\\data\\\\pdf_files\\\\want the complete content_no omission.pdf', 'file_path': '..\\\\data\\\\pdf_files\\\\want the complete content_no omission.pdf', 'total_pages': 7, 'format': 'PDF 1.4', 'title': '', 'author': '', 'subject': '', 'keywords': '', 'moddate': '2025-09-08T15:55:05+00:00', 'trapped': '', 'modDate': \"D:20250908155505+00'00'\", 'creationDate': \"D:20250908155505+00'00'\", 'page': 1}, page_content='quickest rates globally.\\nThe government strives to maintain stability, watching prices carefully to keep them steady. This\\npredictability gives companies the confidence to invest for the future.\\nWhile challenges remain, such as improving local supply chains and preparing a workforce for\\nadvanced manufacturing, the overall outlook is very good.\\nToday, Vietnam is often talked about as a great place to do business, thanks to a combination of\\nclever decisions and strategic advantages.'),\n",
       " Document(metadata={'producer': 'Skia/PDF m127', 'creator': 'Chromium', 'creationdate': '2025-09-08T15:55:05+00:00', 'source': '..\\\\data\\\\pdf_files\\\\want the complete content_no omission.pdf', 'file_path': '..\\\\data\\\\pdf_files\\\\want the complete content_no omission.pdf', 'total_pages': 7, 'format': 'PDF 1.4', 'title': '', 'author': '', 'subject': '', 'keywords': '', 'moddate': '2025-09-08T15:55:05+00:00', 'trapped': '', 'modDate': \"D:20250908155505+00'00'\", 'creationDate': \"D:20250908155505+00'00'\", 'page': 1}, page_content=\"clever decisions and strategic advantages.\\nVietnam opened its doors to the world. A 1987 law on foreign investment encouraged\\ncompanies from other countries to invest. This provided essential funds, fresh technology,\\nand new expertise.\\nA Snapshot of Vietnam's Economy Today\\nThree Key Factors Driving Growth\\nInvestment: The government invests heavily in constructing roads, ports, and power plants,\\nwhich helps companies operate more smoothly. Moreover, companies from other countries\"),\n",
       " Document(metadata={'producer': 'Skia/PDF m127', 'creator': 'Chromium', 'creationdate': '2025-09-08T15:55:05+00:00', 'source': '..\\\\data\\\\pdf_files\\\\want the complete content_no omission.pdf', 'file_path': '..\\\\data\\\\pdf_files\\\\want the complete content_no omission.pdf', 'total_pages': 7, 'format': 'PDF 1.4', 'title': '', 'author': '', 'subject': '', 'keywords': '', 'moddate': '2025-09-08T15:55:05+00:00', 'trapped': '', 'modDate': \"D:20250908155505+00'00'\", 'creationDate': \"D:20250908155505+00'00'\", 'page': 1}, page_content='are investing heavily by starting businesses.\\nConsumption: More people have disposable income now, so they are buying more things.\\nPeople desire new phones, improved food, and contemporary clothes. This creates a huge\\ndomestic market, and online shopping is growing quickly as more people use the internet.\\nExports: Exports form the third and most important driver of growth. Vietnam creates\\nproducts that people everywhere purchase. Many items you use daily, like shoes or your cell'),\n",
       " Document(metadata={'producer': 'Skia/PDF m127', 'creator': 'Chromium', 'creationdate': '2025-09-08T15:55:05+00:00', 'source': '..\\\\data\\\\pdf_files\\\\want the complete content_no omission.pdf', 'file_path': '..\\\\data\\\\pdf_files\\\\want the complete content_no omission.pdf', 'total_pages': 7, 'format': 'PDF 1.4', 'title': '', 'author': '', 'subject': '', 'keywords': '', 'moddate': '2025-09-08T15:55:05+00:00', 'trapped': '', 'modDate': \"D:20250908155505+00'00'\", 'creationDate': \"D:20250908155505+00'00'\", 'page': 1}, page_content=\"phone, likely come from Vietnam.\\nSo, What's the Big Deal About Vietnam?\\nKey Advantages\\nPolitical Stability: The government is stable, so businesses can relax knowing that rules\\nwon’t shift quickly and disrupt their plans. This predictability is crucial for companies\\nconsidering major, long-term projects.\\nA Young and Dynamic Population: Vietnam is home to almost 100 million residents, with an\\naverage age of just 32. The nation has a large, energetic workforce eager to learn new\"),\n",
       " Document(metadata={'producer': 'Skia/PDF m127', 'creator': 'Chromium', 'creationdate': '2025-09-08T15:55:05+00:00', 'source': '..\\\\data\\\\pdf_files\\\\want the complete content_no omission.pdf', 'file_path': '..\\\\data\\\\pdf_files\\\\want the complete content_no omission.pdf', 'total_pages': 7, 'format': 'PDF 1.4', 'title': '', 'author': '', 'subject': '', 'keywords': '', 'moddate': '2025-09-08T15:55:05+00:00', 'trapped': '', 'modDate': \"D:20250908155505+00'00'\", 'creationDate': \"D:20250908155505+00'00'\", 'page': 1}, page_content='skills. High literacy rates make it easy to train people for new jobs.\\nStrategic Location: Vietnam boasts a long coastline along the South China Sea, a very\\nactive global shipping route. It’s simple to send products to customers in Asia and the rest'),\n",
       " Document(metadata={'producer': 'Skia/PDF m127', 'creator': 'Chromium', 'creationdate': '2025-09-08T15:55:05+00:00', 'source': '..\\\\data\\\\pdf_files\\\\want the complete content_no omission.pdf', 'file_path': '..\\\\data\\\\pdf_files\\\\want the complete content_no omission.pdf', 'total_pages': 7, 'format': 'PDF 1.4', 'title': '', 'author': '', 'subject': '', 'keywords': '', 'moddate': '2025-09-08T15:55:05+00:00', 'trapped': '', 'modDate': \"D:20250908155505+00'00'\", 'creationDate': \"D:20250908155505+00'00'\", 'page': 2}, page_content=\"Vietnam's success can be compared to a good recipe, combining a few important elements\\nbeautifully.\\nVietnam has a diverse manufacturing base and is a key player in many global industries.\\nThis sector fueled Vietnam’s initial manufacturing growth. Top clothing and shoe brands have\\nrelied on Vietnam for years. This industry employs many people and brings significant income\\ninto the nation. Now, Vietnamese businesses are moving up the value chain by creating their\"),\n",
       " Document(metadata={'producer': 'Skia/PDF m127', 'creator': 'Chromium', 'creationdate': '2025-09-08T15:55:05+00:00', 'source': '..\\\\data\\\\pdf_files\\\\want the complete content_no omission.pdf', 'file_path': '..\\\\data\\\\pdf_files\\\\want the complete content_no omission.pdf', 'total_pages': 7, 'format': 'PDF 1.4', 'title': '', 'author': '', 'subject': '', 'keywords': '', 'moddate': '2025-09-08T15:55:05+00:00', 'trapped': '', 'modDate': \"D:20250908155505+00'00'\", 'creationDate': \"D:20250908155505+00'00'\", 'page': 2}, page_content=\"own designs and sourcing their own materials to earn greater profits.\\nof the world. The country also borders China, making it easy to integrate into its large\\nnetwork of suppliers.\\nPro-Business Government: The government actively encourages business growth by\\nsimplifying rules and signing numerous free trade agreements. These agreements lower\\ntaxes on products made in Vietnam, making them more competitive globally.\\nVietnam's Secret Sauce for Success\\nKey Ingredients\"),\n",
       " Document(metadata={'producer': 'Skia/PDF m127', 'creator': 'Chromium', 'creationdate': '2025-09-08T15:55:05+00:00', 'source': '..\\\\data\\\\pdf_files\\\\want the complete content_no omission.pdf', 'file_path': '..\\\\data\\\\pdf_files\\\\want the complete content_no omission.pdf', 'total_pages': 7, 'format': 'PDF 1.4', 'title': '', 'author': '', 'subject': '', 'keywords': '', 'moddate': '2025-09-08T15:55:05+00:00', 'trapped': '', 'modDate': \"D:20250908155505+00'00'\", 'creationDate': \"D:20250908155505+00'00'\", 'page': 2}, page_content='Key Ingredients\\nExport-Oriented Growth: The core strategy is to make things for the world. Vietnam has\\nworked to become a great manufacturing hub. The government offers advantages like\\nexcellent facilities and reduced taxes to companies that set up in designated zones to\\nproduce goods for export.\\nAttracting Foreign Direct Investment (FDI): The government recognized the need for\\noutside help and made the country welcoming to foreign investment. It understood that'),\n",
       " Document(metadata={'producer': 'Skia/PDF m127', 'creator': 'Chromium', 'creationdate': '2025-09-08T15:55:05+00:00', 'source': '..\\\\data\\\\pdf_files\\\\want the complete content_no omission.pdf', 'file_path': '..\\\\data\\\\pdf_files\\\\want the complete content_no omission.pdf', 'total_pages': 7, 'format': 'PDF 1.4', 'title': '', 'author': '', 'subject': '', 'keywords': '', 'moddate': '2025-09-08T15:55:05+00:00', 'trapped': '', 'modDate': \"D:20250908155505+00'00'\", 'creationDate': \"D:20250908155505+00'00'\", 'page': 2}, page_content='foreign companies bring more than just money—they introduce new technology, modern\\nmanagement methods, and connections to customers worldwide.\\nThe \"China+1\" Strategy: As manufacturing costs in China have risen, businesses began\\nsearching for other countries to build factories and diversify their operations. Vietnam was a\\nnatural fit due to its proximity, lower costs, and similar work culture. This has led to a\\nsignificant influx of investment.'),\n",
       " Document(metadata={'producer': 'Skia/PDF m127', 'creator': 'Chromium', 'creationdate': '2025-09-08T15:55:05+00:00', 'source': '..\\\\data\\\\pdf_files\\\\want the complete content_no omission.pdf', 'file_path': '..\\\\data\\\\pdf_files\\\\want the complete content_no omission.pdf', 'total_pages': 7, 'format': 'PDF 1.4', 'title': '', 'author': '', 'subject': '', 'keywords': '', 'moddate': '2025-09-08T15:55:05+00:00', 'trapped': '', 'modDate': \"D:20250908155505+00'00'\", 'creationDate': \"D:20250908155505+00'00'\", 'page': 2}, page_content='significant influx of investment.\\nInfrastructure Development: Vietnam is investing heavily in building roads, bridges, and\\npower systems. A massive highway is being constructed to link the northern and southern\\nregions. New harbors for large cargo vessels are being built, and airports are being\\nexpanded.\\nA Deep Dive into What Vietnam Makes\\nTextiles & Footwear'),\n",
       " Document(metadata={'producer': 'Skia/PDF m127', 'creator': 'Chromium', 'creationdate': '2025-09-08T15:55:05+00:00', 'source': '..\\\\data\\\\pdf_files\\\\want the complete content_no omission.pdf', 'file_path': '..\\\\data\\\\pdf_files\\\\want the complete content_no omission.pdf', 'total_pages': 7, 'format': 'PDF 1.4', 'title': '', 'author': '', 'subject': '', 'keywords': '', 'moddate': '2025-09-08T15:55:05+00:00', 'trapped': '', 'modDate': \"D:20250908155505+00'00'\", 'creationDate': \"D:20250908155505+00'00'\", 'page': 3}, page_content=\"This is the modern face of Vietnam. The nation now plays a critical role in the global electronics\\nsupply chain. Samsung's large investment started this change; they now build a majority of their\\nphones there. Intel has built its largest chip testing facility in the world here. Apple’s partners are\\nalso gradually increasing the manufacturing of products like AirPods and MacBooks within the\\ncountry.\\nWith its fertile riverlands, Vietnam is a global food powerhouse.\"),\n",
       " Document(metadata={'producer': 'Skia/PDF m127', 'creator': 'Chromium', 'creationdate': '2025-09-08T15:55:05+00:00', 'source': '..\\\\data\\\\pdf_files\\\\want the complete content_no omission.pdf', 'file_path': '..\\\\data\\\\pdf_files\\\\want the complete content_no omission.pdf', 'total_pages': 7, 'format': 'PDF 1.4', 'title': '', 'author': '', 'subject': '', 'keywords': '', 'moddate': '2025-09-08T15:55:05+00:00', 'trapped': '', 'modDate': \"D:20250908155505+00'00'\", 'creationDate': \"D:20250908155505+00'00'\", 'page': 3}, page_content=\"These sectors offer appealing future possibilities. Vietnam now has its own domestic car\\ncompany, VinFast. It is also the world's second-largest furniture exporter, building items for well-\\nknown stores like IKEA.\\nIndia and Vietnam share a close friendship, built on years of cooperation and mutual trust. In\\n2016, the relationship was elevated to a “Comprehensive Strategic Partnership,” the highest\\nlevel of connection Vietnam makes with other countries. This strong government relationship\"),\n",
       " Document(metadata={'producer': 'Skia/PDF m127', 'creator': 'Chromium', 'creationdate': '2025-09-08T15:55:05+00:00', 'source': '..\\\\data\\\\pdf_files\\\\want the complete content_no omission.pdf', 'file_path': '..\\\\data\\\\pdf_files\\\\want the complete content_no omission.pdf', 'total_pages': 7, 'format': 'PDF 1.4', 'title': '', 'author': '', 'subject': '', 'keywords': '', 'moddate': '2025-09-08T15:55:05+00:00', 'trapped': '', 'modDate': \"D:20250908155505+00'00'\", 'creationDate': \"D:20250908155505+00'00'\", 'page': 3}, page_content=\"creates a comfortable and welcoming space for businesses from both nations to collaborate.\\nBilateral trade between India and Vietnam now exceeds $15 billion annually. The two economies\\nare complementary rather than competitive.\\nWe provide many of the inputs that Vietnamese factories use to make things, such as:\\nElectronics & Tech\\nAgriculture & Seafood\\nCoffee: Vietnam is the world's largest producer of Robusta coffee beans, the kind used in\\nmost instant coffee.\"),\n",
       " Document(metadata={'producer': 'Skia/PDF m127', 'creator': 'Chromium', 'creationdate': '2025-09-08T15:55:05+00:00', 'source': '..\\\\data\\\\pdf_files\\\\want the complete content_no omission.pdf', 'file_path': '..\\\\data\\\\pdf_files\\\\want the complete content_no omission.pdf', 'total_pages': 7, 'format': 'PDF 1.4', 'title': '', 'author': '', 'subject': '', 'keywords': '', 'moddate': '2025-09-08T15:55:05+00:00', 'trapped': '', 'modDate': \"D:20250908155505+00'00'\", 'creationDate': \"D:20250908155505+00'00'\", 'page': 3}, page_content=\"most instant coffee.\\nRice: The Mekong Delta makes Vietnam a leading rice seller worldwide.\\nOther Exports: The country is the world's top exporter of cashews and black pepper. Its\\nfarms also produce large quantities of shrimp and pangasius fish.\\nCars and Furniture\\nIndia and Vietnam: A Perfect Partnership\\nHow the Trade Works\\nIndia supplies the raw materials.\\nIron and steel for construction.\\nCotton and yarn for clothing plants.\\nBuffalo meat.\\nPharmaceutical ingredients.\"),\n",
       " Document(metadata={'producer': 'Skia/PDF m127', 'creator': 'Chromium', 'creationdate': '2025-09-08T15:55:05+00:00', 'source': '..\\\\data\\\\pdf_files\\\\want the complete content_no omission.pdf', 'file_path': '..\\\\data\\\\pdf_files\\\\want the complete content_no omission.pdf', 'total_pages': 7, 'format': 'PDF 1.4', 'title': '', 'author': '', 'subject': '', 'keywords': '', 'moddate': '2025-09-08T15:55:05+00:00', 'trapped': '', 'modDate': \"D:20250908155505+00'00'\", 'creationDate': \"D:20250908155505+00'00'\", 'page': 4}, page_content=\"Vietnam uses these materials to create valuable finished products, many of which are sold back\\nto India. These include:\\nCurrently, India has a trade deficit with Vietnam, meaning we buy more from them than we sell to\\nthem, largely due to high-value electronics imports. This highlights our reliance on their\\nmanufacturing capabilities and the close integration of our economies.\\nVietnam's rapidly expanding market offers many opportunities that align well with India's\\nstrengths.\"),\n",
       " Document(metadata={'producer': 'Skia/PDF m127', 'creator': 'Chromium', 'creationdate': '2025-09-08T15:55:05+00:00', 'source': '..\\\\data\\\\pdf_files\\\\want the complete content_no omission.pdf', 'file_path': '..\\\\data\\\\pdf_files\\\\want the complete content_no omission.pdf', 'total_pages': 7, 'format': 'PDF 1.4', 'title': '', 'author': '', 'subject': '', 'keywords': '', 'moddate': '2025-09-08T15:55:05+00:00', 'trapped': '', 'modDate': \"D:20250908155505+00'00'\", 'creationDate': \"D:20250908155505+00'00'\", 'page': 4}, page_content='strengths.\\nAs incomes rise in Vietnam, the demand for better healthcare is growing. India, known as the\\n\"pharmacy of the world,\" has a great opportunity.\\nVietnam is experiencing rapid technological growth, with high smartphone penetration. This is a\\nprime market for India’s top-tier tech companies.\\nVietnam makes the finished goods.\\nSmartphones, computers, and other electronics.\\nComputer components and factory machinery.\\nCoffee and natural rubber.\\nBig Opportunities for Indian Businesses'),\n",
       " Document(metadata={'producer': 'Skia/PDF m127', 'creator': 'Chromium', 'creationdate': '2025-09-08T15:55:05+00:00', 'source': '..\\\\data\\\\pdf_files\\\\want the complete content_no omission.pdf', 'file_path': '..\\\\data\\\\pdf_files\\\\want the complete content_no omission.pdf', 'total_pages': 7, 'format': 'PDF 1.4', 'title': '', 'author': '', 'subject': '', 'keywords': '', 'moddate': '2025-09-08T15:55:05+00:00', 'trapped': '', 'modDate': \"D:20250908155505+00'00'\", 'creationDate': \"D:20250908155505+00'00'\", 'page': 4}, page_content='Big Opportunities for Indian Businesses\\nPharma and Healthcare\\nIndian drug manufacturers can supply the high demand for medicines and pharmaceutical\\ningredients.\\nSetting up local manufacturing can provide better market access and help win government\\ncontracts.\\nThere is a significant need for medical equipment, from surgical tools to MRI scanners,\\nwhich Indian manufacturers can provide at competitive prices.\\nDigital, IT, and Fintech'),\n",
       " Document(metadata={'producer': 'Skia/PDF m127', 'creator': 'Chromium', 'creationdate': '2025-09-08T15:55:05+00:00', 'source': '..\\\\data\\\\pdf_files\\\\want the complete content_no omission.pdf', 'file_path': '..\\\\data\\\\pdf_files\\\\want the complete content_no omission.pdf', 'total_pages': 7, 'format': 'PDF 1.4', 'title': '', 'author': '', 'subject': '', 'keywords': '', 'moddate': '2025-09-08T15:55:05+00:00', 'trapped': '', 'modDate': \"D:20250908155505+00'00'\", 'creationDate': \"D:20250908155505+00'00'\", 'page': 4}, page_content='Digital, IT, and Fintech\\nVietnamese companies are undergoing a digital transformation and need help with software,\\ncloud services, and data management.\\nVietnam is aiming for a less-cash society. Indian businesses with expertise in digital payment\\nsystems like UPI can partner with Vietnamese banks.\\nThe online learning market is growing rapidly. Indian educational technology companies\\nhave well-developed platforms that could succeed in Vietnam.'),\n",
       " Document(metadata={'producer': 'Skia/PDF m127', 'creator': 'Chromium', 'creationdate': '2025-09-08T15:55:05+00:00', 'source': '..\\\\data\\\\pdf_files\\\\want the complete content_no omission.pdf', 'file_path': '..\\\\data\\\\pdf_files\\\\want the complete content_no omission.pdf', 'total_pages': 7, 'format': 'PDF 1.4', 'title': '', 'author': '', 'subject': '', 'keywords': '', 'moddate': '2025-09-08T15:55:05+00:00', 'trapped': '', 'modDate': \"D:20250908155505+00'00'\", 'creationDate': \"D:20250908155505+00'00'\", 'page': 5}, page_content=\"Both nations are agricultural powerhouses and can learn from each other. India can provide\\ntechnology to improve Vietnam’s farm productivity.\\nSuccess in Vietnam requires more than a good product; it requires understanding the culture.\\nBusiness is built on relationships, respect, and patience.\\nUnderstanding Vietnam's business regulations is crucial to avoid delays and unnecessary costs.\\nVietnam is focused on facilitating smooth trade by removing barriers, boosting exports, and\"),\n",
       " Document(metadata={'producer': 'Skia/PDF m127', 'creator': 'Chromium', 'creationdate': '2025-09-08T15:55:05+00:00', 'source': '..\\\\data\\\\pdf_files\\\\want the complete content_no omission.pdf', 'file_path': '..\\\\data\\\\pdf_files\\\\want the complete content_no omission.pdf', 'total_pages': 7, 'format': 'PDF 1.4', 'title': '', 'author': '', 'subject': '', 'keywords': '', 'moddate': '2025-09-08T15:55:05+00:00', 'trapped': '', 'modDate': \"D:20250908155505+00'00'\", 'creationDate': \"D:20250908155505+00'00'\", 'page': 5}, page_content='attracting foreign investment. They have achieved this by signing numerous free trade\\nagreements that lower taxes and help Vietnamese products reach global markets.\\nFarming and Food Processing\\nOpportunities exist to sell drones for crop monitoring, low-cost irrigation tools, and software\\nfor supply chain management.\\nIndian businesses can invest in food processing facilities in Vietnam, turning fresh\\npineapples into juice or green coffee beans into instant coffee for domestic sale or global'),\n",
       " Document(metadata={'producer': 'Skia/PDF m127', 'creator': 'Chromium', 'creationdate': '2025-09-08T15:55:05+00:00', 'source': '..\\\\data\\\\pdf_files\\\\want the complete content_no omission.pdf', 'file_path': '..\\\\data\\\\pdf_files\\\\want the complete content_no omission.pdf', 'total_pages': 7, 'format': 'PDF 1.4', 'title': '', 'author': '', 'subject': '', 'keywords': '', 'moddate': '2025-09-08T15:55:05+00:00', 'trapped': '', 'modDate': \"D:20250908155505+00'00'\", 'creationDate': \"D:20250908155505+00'00'\", 'page': 5}, page_content='export.\\nHow to Do Business the Vietnamese Way\\nCore Etiquette\\nFriendship First, Business Second: Vietnamese people prefer to do business with those\\nthey like and trust. Initial meetings may feel more like casual conversations than formal\\nnegotiations. Take the time to build rapport through conversation and meals.\\nIt\\'s All About \"Face\": \"Face\" refers to a person\\'s dignity, reputation, and self-respect. It is\\ncrucial not to embarrass your Vietnamese counterpart. Never criticize them or point out'),\n",
       " Document(metadata={'producer': 'Skia/PDF m127', 'creator': 'Chromium', 'creationdate': '2025-09-08T15:55:05+00:00', 'source': '..\\\\data\\\\pdf_files\\\\want the complete content_no omission.pdf', 'file_path': '..\\\\data\\\\pdf_files\\\\want the complete content_no omission.pdf', 'total_pages': 7, 'format': 'PDF 1.4', 'title': '', 'author': '', 'subject': '', 'keywords': '', 'moddate': '2025-09-08T15:55:05+00:00', 'trapped': '', 'modDate': \"D:20250908155505+00'00'\", 'creationDate': \"D:20250908155505+00'00'\", 'page': 5}, page_content='mistakes in front of others, especially their colleagues, as this could cause great shame and\\nend a deal. Address issues politely and in private.\\nCommunication is an Art: To maintain harmony, Vietnamese communication is often\\nindirect. A direct “no” is rare. Instead, you might hear phrases like, “This presents a\\nchallenge,” or “We should look into this further.” These often mean \"no.\" A local partner can\\nhelp you understand these nuances.'),\n",
       " Document(metadata={'producer': 'Skia/PDF m127', 'creator': 'Chromium', 'creationdate': '2025-09-08T15:55:05+00:00', 'source': '..\\\\data\\\\pdf_files\\\\want the complete content_no omission.pdf', 'file_path': '..\\\\data\\\\pdf_files\\\\want the complete content_no omission.pdf', 'total_pages': 7, 'format': 'PDF 1.4', 'title': '', 'author': '', 'subject': '', 'keywords': '', 'moddate': '2025-09-08T15:55:05+00:00', 'trapped': '', 'modDate': \"D:20250908155505+00'00'\", 'creationDate': \"D:20250908155505+00'00'\", 'page': 5}, page_content=\"help you understand these nuances.\\nRespect the Hierarchy: Vietnamese companies are typically hierarchical. Respect for elders\\nand superiors is paramount. Address people by their formal titles (e.g., Director, Chairman).\\nWhen exchanging business cards, give and receive them with both hands and study the\\ncard for a moment before putting it away as a sign of respect.\\nPlaying by the Rules in Vietnam\\nThe Big Picture: Vietnam's Trade Policy\"),\n",
       " Document(metadata={'producer': 'Skia/PDF m127', 'creator': 'Chromium', 'creationdate': '2025-09-08T15:55:05+00:00', 'source': '..\\\\data\\\\pdf_files\\\\want the complete content_no omission.pdf', 'file_path': '..\\\\data\\\\pdf_files\\\\want the complete content_no omission.pdf', 'total_pages': 7, 'format': 'PDF 1.4', 'title': '', 'author': '', 'subject': '', 'keywords': '', 'moddate': '2025-09-08T15:55:05+00:00', 'trapped': '', 'modDate': \"D:20250908155505+00'00'\", 'creationDate': \"D:20250908155505+00'00'\", 'page': 6}, page_content=\"Vietnam's journey is one of the most encouraging economic success stories today. It shows what\\nis possible with a clear vision, hard work, and an open-door policy to the world.\\nFor India, Vietnam is more than just a market; it is a strategic partner. This relationship shows\\nhow two developing nations can cooperate to build a prosperous future. The synergy is clear:\\nVietnamese industry needs Indian cotton and steel. Indian technology can help power Vietnam's\"),\n",
       " Document(metadata={'producer': 'Skia/PDF m127', 'creator': 'Chromium', 'creationdate': '2025-09-08T15:55:05+00:00', 'source': '..\\\\data\\\\pdf_files\\\\want the complete content_no omission.pdf', 'file_path': '..\\\\data\\\\pdf_files\\\\want the complete content_no omission.pdf', 'total_pages': 7, 'format': 'PDF 1.4', 'title': '', 'author': '', 'subject': '', 'keywords': '', 'moddate': '2025-09-08T15:55:05+00:00', 'trapped': '', 'modDate': \"D:20250908155505+00'00'\", 'creationDate': \"D:20250908155505+00'00'\", 'page': 6}, page_content=\"digital future. And Indian medical expertise can help improve the lives of the Vietnamese people.\\nAs our nations continue to grow and assume greater roles on the world stage, this partnership\\nwill only become more important, built on a foundation of mutual trust and shared goals.\\nLet's Talk Taxes and Tariffs\\nYour best tool: The AIFTA. The ASEAN-India Free Trade Agreement (AIFTA) is the most\\nimportant tool for Indian businesses. It significantly lowers taxes (tariffs) on most goods\"),\n",
       " Document(metadata={'producer': 'Skia/PDF m127', 'creator': 'Chromium', 'creationdate': '2025-09-08T15:55:05+00:00', 'source': '..\\\\data\\\\pdf_files\\\\want the complete content_no omission.pdf', 'file_path': '..\\\\data\\\\pdf_files\\\\want the complete content_no omission.pdf', 'total_pages': 7, 'format': 'PDF 1.4', 'title': '', 'author': '', 'subject': '', 'keywords': '', 'moddate': '2025-09-08T15:55:05+00:00', 'trapped': '', 'modDate': \"D:20250908155505+00'00'\", 'creationDate': \"D:20250908155505+00'00'\", 'page': 6}, page_content=\"traded between India and Vietnam, often to between 0% and 5%.\\nThe Problem: Rules of Origin. To benefit from the lower AIFTA tariff rate, you must prove\\nyour product originates in India. Simply shipping it from India isn't enough; a certain\\npercentage of its value must be added there. Ensure your Certificate of Origin and other\\ndocumentation are perfectly accurate, as mistakes can lead to higher taxes.\\nMore Than Just Taxes: Other Hurdles to Watch\"),\n",
       " Document(metadata={'producer': 'Skia/PDF m127', 'creator': 'Chromium', 'creationdate': '2025-09-08T15:55:05+00:00', 'source': '..\\\\data\\\\pdf_files\\\\want the complete content_no omission.pdf', 'file_path': '..\\\\data\\\\pdf_files\\\\want the complete content_no omission.pdf', 'total_pages': 7, 'format': 'PDF 1.4', 'title': '', 'author': '', 'subject': '', 'keywords': '', 'moddate': '2025-09-08T15:55:05+00:00', 'trapped': '', 'modDate': \"D:20250908155505+00'00'\", 'creationDate': \"D:20250908155505+00'00'\", 'page': 6}, page_content='More Than Just Taxes: Other Hurdles to Watch\\nProtect Your Intellectual Property: While Vietnam is improving its IP laws, counterfeit goods\\ncan still be an issue. Register your trademarks and patents in Vietnam before you start\\nselling.\\nFollow Local Standards: Vietnam has specific technical and quality standards to protect\\nconsumers. Electronics must meet safety and energy efficiency guidelines. Food products'),\n",
       " Document(metadata={'producer': 'Skia/PDF m127', 'creator': 'Chromium', 'creationdate': '2025-09-08T15:55:05+00:00', 'source': '..\\\\data\\\\pdf_files\\\\want the complete content_no omission.pdf', 'file_path': '..\\\\data\\\\pdf_files\\\\want the complete content_no omission.pdf', 'total_pages': 7, 'format': 'PDF 1.4', 'title': '', 'author': '', 'subject': '', 'keywords': '', 'moddate': '2025-09-08T15:55:05+00:00', 'trapped': '', 'modDate': \"D:20250908155505+00'00'\", 'creationDate': \"D:20250908155505+00'00'\", 'page': 6}, page_content='must have labels in the Vietnamese language. Research the specific rules for your product\\nearly on.\\nDealing with Bureaucracy: Customs clearance can still involve significant paperwork and\\nslow processes. It is smart to work with a reliable local customs broker who knows the\\nsystem, can handle documentation, and get your goods from the port to their final\\ndestination efficiently.\\nWeaving a Future Together')]"
      ]
     },
     "execution_count": 21,
     "metadata": {},
     "output_type": "execute_result"
    }
   ],
   "source": [
    "# Display the PDF chunks to verify\n",
    "pdf_chunks"
   ]
  },
  {
   "cell_type": "code",
   "execution_count": 22,
   "id": "262a9852",
   "metadata": {},
   "outputs": [
    {
     "name": "stdout",
     "output_type": "stream",
     "text": [
      "Generating embeddings for 41 texts...\n"
     ]
    },
    {
     "name": "stderr",
     "output_type": "stream",
     "text": [
      "Batches: 100%|██████████| 2/2 [00:00<00:00,  3.49it/s]"
     ]
    },
    {
     "name": "stdout",
     "output_type": "stream",
     "text": [
      "Generated embeddings with shape: (41, 384)\n",
      "Adding 41 documents to the vector store...\n",
      "Successfully added 41 documents. Total documents in collection: 123\n"
     ]
    },
    {
     "name": "stderr",
     "output_type": "stream",
     "text": [
      "\n"
     ]
    }
   ],
   "source": [
    "# Convert the PDF chunks to embeddings\n",
    "texts = [doc.page_content for doc in pdf_chunks]\n",
    "\n",
    "# Generate the Embeddings\n",
    "embeddings = embedding_manager.generate_embeddings(texts)\n",
    "\n",
    "# Store in the vector database\n",
    "vectorstore.add_documents(pdf_chunks, embeddings)"
   ]
  },
  {
   "cell_type": "markdown",
   "id": "1d6ecd7b",
   "metadata": {},
   "source": [
    "### Retriver Pipeline From VectorStore"
   ]
  },
  {
   "cell_type": "code",
   "execution_count": 23,
   "id": "bf676130",
   "metadata": {},
   "outputs": [
    {
     "data": {
      "text/plain": [
       "<__main__.RAGRetriever at 0x2448b5e9990>"
      ]
     },
     "execution_count": 23,
     "metadata": {},
     "output_type": "execute_result"
    }
   ],
   "source": [
    "class RAGRetriever:\n",
    "    \"\"\"Handles query-based retrieval from the vector store\"\"\"\n",
    "\n",
    "    def __init__(self, vectorstore: VectorStore, embedding_manager: EmbeddingManager):\n",
    "        \"\"\"\n",
    "        Initialize the retriever\n",
    "\n",
    "        Args:\n",
    "            vectorstore: Vector store containing document embeddings\n",
    "            embedding_manager: Manager for generating query embeddings\n",
    "        \"\"\"\n",
    "\n",
    "        self.vector_store = vectorstore\n",
    "        self.embedding_manager = embedding_manager\n",
    "    \n",
    "    def retrieve(self, query: str, top_k: int=5, score_threshold: float=0.0) -> List[Dict[str, Any]]:\n",
    "        \"\"\"\n",
    "        Retrieve top_k relevant documents for the given query.\n",
    "\n",
    "        Args:\n",
    "            query (str): The input query string.\n",
    "            top_k (int): Number of top documents to retrieve.\n",
    "            score_threshold (float): Minimum similarity score to consider a document relevant.\n",
    "        \n",
    "        Returns:\n",
    "            List of dictionaries containing 'document' and 'metadata'.\n",
    "        \"\"\"\n",
    "        # Validate inputs\n",
    "        if not query or not query.strip():\n",
    "            raise ValueError(\"query cannot be empty\")\n",
    "        \n",
    "        if top_k <= 0:\n",
    "            raise ValueError(\"top_k must be positive\")\n",
    "\n",
    "        print(f\"Retrieving documents for query: '{query}'\")\n",
    "        print(f\"Top K: {top_k}, Score Threshold: {score_threshold}\")\n",
    "\n",
    "        # Generate embedding for the query\n",
    "        query_embedding = self.embedding_manager.generate_embeddings([query])[0]\n",
    "\n",
    "        # Search in the vector store\n",
    "        try:\n",
    "            results = self.vector_store.collection.query(\n",
    "                query_embeddings=[query_embedding.tolist()],\n",
    "                n_results=top_k\n",
    "            )\n",
    "            \n",
    "            # Process results\n",
    "            retrieved_docs = []\n",
    "\n",
    "            if results['documents'] and results['documents'][0]:\n",
    "                documents = results['documents'][0]\n",
    "                metadatas = results['metadatas'][0]\n",
    "                distances = results['distances'][0]\n",
    "                ids = results['ids'][0]\n",
    "\n",
    "                for i, (doc_id, document, metadata, distance) in enumerate(zip(ids, documents, metadatas, distances)):\n",
    "                    # Convert cosine distance to similarity score\n",
    "                    # Cosine distance ranges from 0 to 2; similarity = 1 - distance ranges from -1 to 1\n",
    "                    similarity_score = 1 - distance\n",
    "\n",
    "                    if similarity_score >= score_threshold:\n",
    "                        retrieved_docs.append({\n",
    "                            \"id\": doc_id,\n",
    "                            \"content\": document,\n",
    "                            \"metadata\": metadata,\n",
    "                            \"similarity_score\": similarity_score,\n",
    "                            \"distance\": distance,\n",
    "                            \"rank\": i + 1\n",
    "                        })\n",
    "                \n",
    "                print(f\"Retrieved {len(retrieved_docs)} documents after filtering by score threshold.\")\n",
    "            else:\n",
    "                print(\"No documents found in the vector store.\")\n",
    "            return retrieved_docs\n",
    "        except Exception as e:\n",
    "            print(f\"Error during retrieval: {e}\")\n",
    "            return []\n",
    "\n",
    "rag_retriever = RAGRetriever(vectorstore, embedding_manager)\n",
    "rag_retriever"
   ]
  },
  {
   "cell_type": "code",
   "execution_count": 24,
   "id": "5fa92ab0",
   "metadata": {},
   "outputs": [
    {
     "name": "stdout",
     "output_type": "stream",
     "text": [
      "Retrieving documents for query: 'What are Rohan's technical skills?'\n",
      "Top K: 3, Score Threshold: 0.0\n",
      "Generating embeddings for 1 texts...\n"
     ]
    },
    {
     "name": "stderr",
     "output_type": "stream",
     "text": [
      "Batches: 100%|██████████| 1/1 [00:00<00:00, 102.20it/s]"
     ]
    },
    {
     "name": "stdout",
     "output_type": "stream",
     "text": [
      "Generated embeddings with shape: (1, 384)\n",
      "Retrieved 3 documents after filtering by score threshold.\n"
     ]
    },
    {
     "name": "stderr",
     "output_type": "stream",
     "text": [
      "\n"
     ]
    },
    {
     "data": {
      "text/plain": [
       "[{'id': 'doc_a6baa274_0',\n",
       "  'content': 'GitHub: github.com/PhoneixDeadeye\\nLinkedIn: linkedin.com/in/rohan-agarwal007/\\nEmail: agarwalrohan2004@gmail.com\\nMobile: +91-9811229836\\nSkills\\nLanguages:\\nJava, C, C++, Python, HTML\\nFrameworks:\\nPandas, OpenCV, Tesseract OCR, Tkinter, TensorFlow, REST API, ComfyUI, AWS\\nTools/Platforms:\\nVS Code, IntelliJ IDEA, Git, GitHub, Canva, Linux/Unix\\nSoft Skills:\\nTime Management, Fast Learner, Leadership, Team Collaboration\\nTraining\\nSummer Training in Competitive Programming',\n",
       "  'metadata': {'producer': 'pdfTeX-1.40.26',\n",
       "   'total_pages': 1,\n",
       "   'author': '',\n",
       "   'moddate': '2025-08-27T08:25:26+00:00',\n",
       "   'page': 0,\n",
       "   'creationdate': '2025-08-27T08:25:26+00:00',\n",
       "   'file_path': '..\\\\data\\\\pdf_files\\\\rohan_cv_aug.pdf',\n",
       "   'trapped': '',\n",
       "   'doc_index': 0,\n",
       "   'creator': 'LaTeX with hyperref',\n",
       "   'content_length': 465,\n",
       "   'format': 'PDF 1.5',\n",
       "   'subject': '',\n",
       "   'keywords': '',\n",
       "   'source': '..\\\\data\\\\pdf_files\\\\rohan_cv_aug.pdf',\n",
       "   'title': '',\n",
       "   'creationDate': 'D:20250827082526Z',\n",
       "   'modDate': 'D:20250827082526Z'},\n",
       "  'similarity_score': 0.38634568452835083,\n",
       "  'distance': 0.6136543154716492,\n",
       "  'rank': 1},\n",
       " {'id': 'doc_7565225b_0',\n",
       "  'content': 'GitHub: github.com/PhoneixDeadeye\\nLinkedIn: linkedin.com/in/rohan-agarwal007/\\nEmail: agarwalrohan2004@gmail.com\\nMobile: +91-9811229836\\nSkills\\nLanguages:\\nJava, C, C++, Python, HTML\\nFrameworks:\\nPandas, OpenCV, Tesseract OCR, Tkinter, TensorFlow, REST API, ComfyUI, AWS\\nTools/Platforms:\\nVS Code, IntelliJ IDEA, Git, GitHub, Canva, Linux/Unix\\nSoft Skills:\\nTime Management, Fast Learner, Leadership, Team Collaboration\\nTraining\\nSummer Training in Competitive Programming',\n",
       "  'metadata': {'content_length': 465,\n",
       "   'moddate': '2025-08-27T08:25:26+00:00',\n",
       "   'source': '..\\\\data\\\\pdf_files\\\\rohan_cv_aug.pdf',\n",
       "   'doc_index': 0,\n",
       "   'creationDate': 'D:20250827082526Z',\n",
       "   'file_path': '..\\\\data\\\\pdf_files\\\\rohan_cv_aug.pdf',\n",
       "   'author': '',\n",
       "   'trapped': '',\n",
       "   'title': '',\n",
       "   'format': 'PDF 1.5',\n",
       "   'keywords': '',\n",
       "   'creationdate': '2025-08-27T08:25:26+00:00',\n",
       "   'producer': 'pdfTeX-1.40.26',\n",
       "   'creator': 'LaTeX with hyperref',\n",
       "   'modDate': 'D:20250827082526Z',\n",
       "   'subject': '',\n",
       "   'page': 0,\n",
       "   'total_pages': 1},\n",
       "  'similarity_score': 0.38634568452835083,\n",
       "  'distance': 0.6136543154716492,\n",
       "  'rank': 2},\n",
       " {'id': 'doc_575a5a1b_0',\n",
       "  'content': 'GitHub: github.com/PhoneixDeadeye\\nLinkedIn: linkedin.com/in/rohan-agarwal007/\\nEmail: agarwalrohan2004@gmail.com\\nMobile: +91-9811229836\\nSkills\\nLanguages:\\nJava, C, C++, Python, HTML\\nFrameworks:\\nPandas, OpenCV, Tesseract OCR, Tkinter, TensorFlow, REST API, ComfyUI, AWS\\nTools/Platforms:\\nVS Code, IntelliJ IDEA, Git, GitHub, Canva, Linux/Unix\\nSoft Skills:\\nTime Management, Fast Learner, Leadership, Team Collaboration\\nTraining\\nSummer Training in Competitive Programming',\n",
       "  'metadata': {'keywords': '',\n",
       "   'page': 0,\n",
       "   'creationdate': '2025-08-27T08:25:26+00:00',\n",
       "   'total_pages': 1,\n",
       "   'content_length': 465,\n",
       "   'creator': 'LaTeX with hyperref',\n",
       "   'trapped': '',\n",
       "   'author': '',\n",
       "   'moddate': '2025-08-27T08:25:26+00:00',\n",
       "   'producer': 'pdfTeX-1.40.26',\n",
       "   'doc_index': 0,\n",
       "   'modDate': 'D:20250827082526Z',\n",
       "   'title': '',\n",
       "   'format': 'PDF 1.5',\n",
       "   'subject': '',\n",
       "   'source': '..\\\\data\\\\pdf_files\\\\rohan_cv_aug.pdf',\n",
       "   'file_path': '..\\\\data\\\\pdf_files\\\\rohan_cv_aug.pdf',\n",
       "   'creationDate': 'D:20250827082526Z'},\n",
       "  'similarity_score': 0.38634568452835083,\n",
       "  'distance': 0.6136543154716492,\n",
       "  'rank': 3}]"
      ]
     },
     "execution_count": 24,
     "metadata": {},
     "output_type": "execute_result"
    }
   ],
   "source": [
    "rag_retriever.retrieve(\"What are Rohan's technical skills?\", top_k=3)"
   ]
  },
  {
   "cell_type": "code",
   "execution_count": 25,
   "id": "4b45c8c8",
   "metadata": {},
   "outputs": [
    {
     "name": "stdout",
     "output_type": "stream",
     "text": [
      "Retrieving documents for query: 'What are vietnam's challenges'\n",
      "Top K: 3, Score Threshold: 0.0\n",
      "Generating embeddings for 1 texts...\n"
     ]
    },
    {
     "name": "stderr",
     "output_type": "stream",
     "text": [
      "Batches: 100%|██████████| 1/1 [00:00<00:00, 107.08it/s]"
     ]
    },
    {
     "name": "stdout",
     "output_type": "stream",
     "text": [
      "Generated embeddings with shape: (1, 384)\n",
      "Retrieved 3 documents after filtering by score threshold.\n"
     ]
    },
    {
     "name": "stderr",
     "output_type": "stream",
     "text": [
      "\n"
     ]
    },
    {
     "data": {
      "text/plain": [
       "[{'id': 'doc_e0d2fe25_17',\n",
       "  'content': 'skills. High literacy rates make it easy to train people for new jobs.\\nStrategic Location: Vietnam boasts a long coastline along the South China Sea, a very\\nactive global shipping route. It’s simple to send products to customers in Asia and the rest',\n",
       "  'metadata': {'source': '..\\\\data\\\\pdf_files\\\\want the complete content_no omission.pdf',\n",
       "   'doc_index': 17,\n",
       "   'file_path': '..\\\\data\\\\pdf_files\\\\want the complete content_no omission.pdf',\n",
       "   'creationDate': \"D:20250908155505+00'00'\",\n",
       "   'content_length': 249,\n",
       "   'moddate': '2025-09-08T15:55:05+00:00',\n",
       "   'subject': '',\n",
       "   'page': 1,\n",
       "   'modDate': \"D:20250908155505+00'00'\",\n",
       "   'title': '',\n",
       "   'keywords': '',\n",
       "   'author': '',\n",
       "   'format': 'PDF 1.4',\n",
       "   'total_pages': 7,\n",
       "   'creationdate': '2025-09-08T15:55:05+00:00',\n",
       "   'trapped': '',\n",
       "   'producer': 'Skia/PDF m127',\n",
       "   'creator': 'Chromium'},\n",
       "  'similarity_score': 0.6216747760772705,\n",
       "  'distance': 0.3783252239227295,\n",
       "  'rank': 1},\n",
       " {'id': 'doc_d2fc53aa_17',\n",
       "  'content': 'skills. High literacy rates make it easy to train people for new jobs.\\nStrategic Location: Vietnam boasts a long coastline along the South China Sea, a very\\nactive global shipping route. It’s simple to send products to customers in Asia and the rest',\n",
       "  'metadata': {'content_length': 249,\n",
       "   'moddate': '2025-09-08T15:55:05+00:00',\n",
       "   'author': '',\n",
       "   'modDate': \"D:20250908155505+00'00'\",\n",
       "   'creationDate': \"D:20250908155505+00'00'\",\n",
       "   'doc_index': 17,\n",
       "   'title': '',\n",
       "   'subject': '',\n",
       "   'creator': 'Chromium',\n",
       "   'total_pages': 7,\n",
       "   'trapped': '',\n",
       "   'creationdate': '2025-09-08T15:55:05+00:00',\n",
       "   'file_path': '..\\\\data\\\\pdf_files\\\\want the complete content_no omission.pdf',\n",
       "   'keywords': '',\n",
       "   'format': 'PDF 1.4',\n",
       "   'source': '..\\\\data\\\\pdf_files\\\\want the complete content_no omission.pdf',\n",
       "   'producer': 'Skia/PDF m127',\n",
       "   'page': 1},\n",
       "  'similarity_score': 0.6216747760772705,\n",
       "  'distance': 0.3783252239227295,\n",
       "  'rank': 2},\n",
       " {'id': 'doc_489192ba_17',\n",
       "  'content': 'skills. High literacy rates make it easy to train people for new jobs.\\nStrategic Location: Vietnam boasts a long coastline along the South China Sea, a very\\nactive global shipping route. It’s simple to send products to customers in Asia and the rest',\n",
       "  'metadata': {'page': 1,\n",
       "   'moddate': '2025-09-08T15:55:05+00:00',\n",
       "   'file_path': '..\\\\data\\\\pdf_files\\\\want the complete content_no omission.pdf',\n",
       "   'doc_index': 17,\n",
       "   'creator': 'Chromium',\n",
       "   'title': '',\n",
       "   'producer': 'Skia/PDF m127',\n",
       "   'keywords': '',\n",
       "   'trapped': '',\n",
       "   'modDate': \"D:20250908155505+00'00'\",\n",
       "   'total_pages': 7,\n",
       "   'subject': '',\n",
       "   'format': 'PDF 1.4',\n",
       "   'content_length': 249,\n",
       "   'creationdate': '2025-09-08T15:55:05+00:00',\n",
       "   'author': '',\n",
       "   'creationDate': \"D:20250908155505+00'00'\",\n",
       "   'source': '..\\\\data\\\\pdf_files\\\\want the complete content_no omission.pdf'},\n",
       "  'similarity_score': 0.6216747760772705,\n",
       "  'distance': 0.3783252239227295,\n",
       "  'rank': 3}]"
      ]
     },
     "execution_count": 25,
     "metadata": {},
     "output_type": "execute_result"
    }
   ],
   "source": [
    "rag_retriever.retrieve(\"What are vietnam's challenges\", top_k=3)"
   ]
  },
  {
   "cell_type": "markdown",
   "id": "234d78fd",
   "metadata": {},
   "source": [
    "### Integrate VectorDB Context pipeline with LLM Output"
   ]
  },
  {
   "cell_type": "code",
   "execution_count": 32,
   "id": "f0296b8c",
   "metadata": {},
   "outputs": [],
   "source": [
    "### Simple RAG pipeline with GROQ LLM\n",
    "from langchain_groq import ChatGroq\n",
    "import os\n",
    "from dotenv import load_dotenv\n",
    "load_dotenv()\n",
    "\n",
    "### Initialize the GROQ LLM\n",
    "groq_api_key = os.getenv(\"GROQ_API_KEY\")\n",
    "\n",
    "llm = ChatGroq(api_key=groq_api_key, model=\"gemma2-9b-it\", temperature=0.1, max_tokens=1024)\n",
    "\n",
    "## 2. Simple RAG function: retrieve context and generate answer\n",
    "def rag_simple(query, retriever, llm, top_k=3):\n",
    "    \"\"\" Simple RAG function to retrieve context and generate answer\n",
    "    Args:\n",
    "        query: User query string\n",
    "        retriever: RAGRetriever instance\n",
    "        llm: Language model instance (e.g., Groq)\n",
    "        top_k: Number of top documents to retrieve\n",
    "    Returns:\n",
    "        Generated answer string\n",
    "    \"\"\"\n",
    "    # Step 1: Retrieve relevant documents\n",
    "    results = retriever.retrieve(query, top_k=top_k)\n",
    "    context = \"\\n\\n\".join([doc['content'] for doc in results]) if results else \"\"\n",
    "\n",
    "    if not context:\n",
    "        return \"No relevant documents found to answer the query.\"\n",
    "    \n",
    "    ## Step 2: Generate answer using LLM\n",
    "    prompt = f\"\"\"You are an expert assistant. Use the following context to answer the question concisely.\n",
    "        Context: \n",
    "        {context}\n",
    "\n",
    "        Question: \n",
    "        {query}\n",
    "\n",
    "        Answer:\n",
    "    \"\"\"\n",
    "\n",
    "    response = llm.invoke([prompt.format(context=context, query=query)])\n",
    "    return response.content"
   ]
  },
  {
   "cell_type": "code",
   "execution_count": 33,
   "id": "f07388a7",
   "metadata": {},
   "outputs": [
    {
     "name": "stdout",
     "output_type": "stream",
     "text": [
      "Retrieving documents for query: 'What are Rohan's technical skills?'\n",
      "Top K: 3, Score Threshold: 0.0\n",
      "Generating embeddings for 1 texts...\n"
     ]
    },
    {
     "name": "stderr",
     "output_type": "stream",
     "text": [
      "Batches: 100%|██████████| 1/1 [00:00<00:00, 125.05it/s]"
     ]
    },
    {
     "name": "stdout",
     "output_type": "stream",
     "text": [
      "Generated embeddings with shape: (1, 384)\n",
      "Retrieved 3 documents after filtering by score threshold.\n"
     ]
    },
    {
     "name": "stderr",
     "output_type": "stream",
     "text": [
      "\n"
     ]
    },
    {
     "name": "stdout",
     "output_type": "stream",
     "text": [
      "Rohan's technical skills include:\n",
      "\n",
      "* **Languages:** Java, C, C++, Python, HTML\n",
      "* **Frameworks:** Pandas, OpenCV, Tesseract OCR, Tkinter, TensorFlow, REST API, ComfyUI, AWS\n",
      "* **Tools/Platforms:** VS Code, IntelliJ IDEA, Git, GitHub, Canva, Linux/Unix \n",
      "\n"
     ]
    }
   ],
   "source": [
    "answer = rag_simple(\"What are Rohan's technical skills?\", rag_retriever, llm, top_k=3)\n",
    "print(answer)"
   ]
  },
  {
   "cell_type": "markdown",
   "id": "ac4dcf8b",
   "metadata": {},
   "source": [
    "### Enhanced RAG Pipeline Features"
   ]
  },
  {
   "cell_type": "code",
   "execution_count": 40,
   "id": "c51239d3",
   "metadata": {},
   "outputs": [],
   "source": [
    "# --- Enchanced RAG Pipeline Features ---\n",
    "\n",
    "def rag_enhanced(query, retriever, llm, top_k=5, min_score=0.2, return_contexts=False):\n",
    "    \"\"\" Enhanced RAG function with score filtering and optional context return\n",
    "    Args:\n",
    "        query: User query string\n",
    "        retriever: RAGRetriever instance\n",
    "        llm: Language model instance (e.g., Groq)\n",
    "        top_k: Number of top documents to retrieve\n",
    "        min_score: Minimum similarity score to consider a document relevant\n",
    "        return_contexts: Whether to return the retrieved contexts along with the answer\n",
    "    Returns:\n",
    "        Dictionary with 'answer', 'sources', 'confidence', and optionally 'contexts'\n",
    "    \"\"\"\n",
    "    # Step 1: Retrieve relevant documents with score filtering\n",
    "    results = retriever.retrieve(query, top_k=top_k, score_threshold=min_score)\n",
    "    if not results:\n",
    "        return {'answer': \"No relevant documents found to answer the query.\", 'sources': [], 'confidence': 0.0}\n",
    "    \n",
    "\n",
    "    context = \"\\n\\n\".join([doc['content'] for doc in results]) if results else \"\"\n",
    "    sources = [{\n",
    "        'source': doc['metadata'].get('source_file', doc['metadata'].get('source', 'unknown')),\n",
    "        'page': doc['metadata'].get('page', 'unknown'),\n",
    "        'score': doc['similarity_score'],\n",
    "        'preview': doc['content'][:120] + (\"...\" if len(doc['content']) > 120 else \"\")\n",
    "    } for doc in results]\n",
    "\n",
    "    confidence = max(doc['similarity_score'] for doc in results) if results else 0.0\n",
    "    if not context:\n",
    "        return {'answer': \"No relevant documents found to answer the query.\", 'sources': [], 'confidence': 0.0}\n",
    "    \n",
    "    ## Step 2: Generate answer using LLM\n",
    "    prompt = f\"\"\"You are an expert assistant. Use the following context to answer the question concisely.\n",
    "        Context: \n",
    "        {context}\n",
    "\n",
    "        Question: \n",
    "        {query}\n",
    "\n",
    "        Answer:\n",
    "    \"\"\"\n",
    "\n",
    "    response = llm.invoke([prompt.format(context=context, query=query)])\n",
    "    \n",
    "    # Prepare return dictionary\n",
    "    result_dict = {\n",
    "        'answer': response.content,\n",
    "        'sources': sources,\n",
    "        'confidence': confidence\n",
    "    }\n",
    "    \n",
    "    if return_contexts:\n",
    "        result_dict['contexts'] = results\n",
    "    \n",
    "    return result_dict"
   ]
  },
  {
   "cell_type": "code",
   "execution_count": 41,
   "id": "14ef2045",
   "metadata": {},
   "outputs": [
    {
     "name": "stdout",
     "output_type": "stream",
     "text": [
      "Retrieving documents for query: 'What are Rohan's technical skills?'\n",
      "Top K: 3, Score Threshold: 0.1\n",
      "Generating embeddings for 1 texts...\n"
     ]
    },
    {
     "name": "stderr",
     "output_type": "stream",
     "text": [
      "Batches: 100%|██████████| 1/1 [00:00<00:00, 129.99it/s]"
     ]
    },
    {
     "name": "stdout",
     "output_type": "stream",
     "text": [
      "Generated embeddings with shape: (1, 384)\n",
      "Retrieved 3 documents after filtering by score threshold.\n"
     ]
    },
    {
     "name": "stderr",
     "output_type": "stream",
     "text": [
      "\n"
     ]
    },
    {
     "name": "stdout",
     "output_type": "stream",
     "text": [
      "Answer: Rohan's technical skills include:\n",
      "\n",
      "* **Languages:** Java, C, C++, Python, HTML\n",
      "* **Frameworks:** Pandas, OpenCV, Tesseract OCR, Tkinter, TensorFlow, REST API, ComfyUI, AWS\n",
      "* **Tools/Platforms:** VS Code, IntelliJ IDEA, Git, GitHub, Canva, Linux/Unix \n",
      "\n",
      "\n",
      "Sources:\n",
      "  1. ..\\data\\pdf_files\\rohan_cv_aug.pdf (page 0) - Score: 0.386\n",
      "     Preview: GitHub: github.com/PhoneixDeadeye\n",
      "LinkedIn: linkedin.com/in/rohan-agarwal007/\n",
      "Email: agarwalrohan2004@gmail.com\n",
      "Mobile: ...\n",
      "  2. ..\\data\\pdf_files\\rohan_cv_aug.pdf (page 0) - Score: 0.386\n",
      "     Preview: GitHub: github.com/PhoneixDeadeye\n",
      "LinkedIn: linkedin.com/in/rohan-agarwal007/\n",
      "Email: agarwalrohan2004@gmail.com\n",
      "Mobile: ...\n",
      "  3. ..\\data\\pdf_files\\rohan_cv_aug.pdf (page 0) - Score: 0.386\n",
      "     Preview: GitHub: github.com/PhoneixDeadeye\n",
      "LinkedIn: linkedin.com/in/rohan-agarwal007/\n",
      "Email: agarwalrohan2004@gmail.com\n",
      "Mobile: ...\n",
      "\n",
      "Confidence: 0.386\n",
      "\n",
      "Number of contexts retrieved: 3\n"
     ]
    }
   ],
   "source": [
    "# Example usage of the enhanced RAG function\n",
    "result = rag_enhanced(\"What are Rohan's technical skills?\", rag_retriever, llm, top_k=3, min_score=0.1, return_contexts=True)\n",
    "print(\"Answer:\", result['answer'])\n",
    "print(\"\\nSources:\")\n",
    "for i, source in enumerate(result['sources'], 1):\n",
    "    print(f\"  {i}. {source['source']} (page {source['page']}) - Score: {source['score']:.3f}\")\n",
    "    print(f\"     Preview: {source['preview']}\")\n",
    "print(f\"\\nConfidence: {result['confidence']:.3f}\")\n",
    "if 'contexts' in result:\n",
    "    print(f\"\\nNumber of contexts retrieved: {len(result['contexts'])}\")"
   ]
  },
  {
   "cell_type": "code",
   "execution_count": 42,
   "id": "60c443dc",
   "metadata": {},
   "outputs": [],
   "source": [
    "# --- Advanced RAG Pipeline: Streaming, Citations, History, Summarization ---\n",
    "from typing import List, Dict, Any\n",
    "import time\n",
    "\n",
    "class AdvancedRAGPipeline:\n",
    "    \"\"\"Advanced RAG Pipeline with streaming, citations, history, and summarization.\"\"\"\n",
    "    \n",
    "    def __init__(self, retriever: RAGRetriever, llm: Any):\n",
    "        \"\"\"\n",
    "        Initialize the advanced RAG pipeline.\n",
    "\n",
    "        Args:\n",
    "            retriever: RAGRetriever instance for document retrieval.\n",
    "            llm: Language model instance (e.g., Groq) for answer generation.\n",
    "        \"\"\"\n",
    "        self.retriever = retriever\n",
    "        self.llm = llm\n",
    "        self.conversation_history = [] # To store past interactions\n",
    "\n",
    "    def query(self, question: str, top_k: int=5, min_score: float=0.2, stream: bool=False, summarize: bool=False) -> Dict[str, Any]:\n",
    "        \"\"\"\n",
    "        Process a user query with advanced features.\n",
    "\n",
    "        Args:\n",
    "            question (str): The user query string.\n",
    "            top_k (int): Number of top documents to retrieve.\n",
    "            min_score (float): Minimum similarity score to consider a document relevant.\n",
    "            stream (bool): Whether to stream the response.\n",
    "\n",
    "        Returns:\n",
    "            Dictionary with 'answer', 'sources', 'confidence', and optionally 'contexts'.\n",
    "        \"\"\"\n",
    "        # Step 1: Retrieve relevant documents\n",
    "        results = self.retriever.retrieve(question, top_k=top_k, score_threshold=min_score)\n",
    "        if not results:\n",
    "            return {'answer': \"No relevant documents found to answer the query.\", 'sources': [], 'confidence': 0.0}\n",
    "        \n",
    "        context = \"\\n\\n\".join([doc['content'] for doc in results]) if results else \"\"\n",
    "        sources = [{\n",
    "            'source': doc['metadata'].get('source_file', doc['metadata'].get('source', 'unknown')),\n",
    "            'page': doc['metadata'].get('page', 'unknown'),\n",
    "            'score': doc['similarity_score'],\n",
    "            'preview': doc['content'][:120] + (\"...\" if len(doc['content']) > 120 else \"\")\n",
    "        } for doc in results]\n",
    "\n",
    "        confidence = max(doc['similarity_score'] for doc in results) if results else 0.0\n",
    "        if not context:\n",
    "            return {'answer': \"No relevant documents found to answer the query.\", 'sources': [], 'confidence': 0.0}\n",
    "        \n",
    "        # Step 2: Generate answer using LLM with conversation history\n",
    "        prompt = f\"\"\"You are an expert assistant. Use the following context to answer the question concisely.\n",
    "            Context: \n",
    "            {context}\n",
    "\n",
    "            Conversation History:\n",
    "            {self._format_history()}\n",
    "\n",
    "            Question: \n",
    "            {question}\n",
    "\n",
    "            Answer:\n",
    "        \"\"\"\n",
    "\n",
    "        if stream:\n",
    "            return self._stream_response(prompt, context, question, sources, confidence)\n",
    "        else:\n",
    "            response = self.llm.invoke([prompt.format(context=context, query=question)])\n",
    "            answer = response.content\n",
    "            self._update_history(question, answer)\n",
    "            \n",
    "            return {\n",
    "                'answer': answer,\n",
    "                'sources': sources,\n",
    "                'confidence': confidence,\n",
    "                'contexts': results\n",
    "            }"
   ]
  },
  {
   "cell_type": "code",
   "execution_count": 46,
   "id": "b49d46fd",
   "metadata": {},
   "outputs": [
    {
     "name": "stdout",
     "output_type": "stream",
     "text": [
      "🔍 RAG ENHANCED QUERY DEMO\n",
      "====================================================================================================\n",
      "\n",
      "📋 Query: 'What are Rohan's technical skills?'\n",
      "⚙️  Parameters: top_k=3, min_score=0.1, return_contexts=True\n",
      "----------------------------------------------------------------------------------------------------\n",
      "\n",
      "Retrieving documents for query: 'What are Rohan's technical skills?'\n",
      "Top K: 3, Score Threshold: 0.1\n",
      "Generating embeddings for 1 texts...\n"
     ]
    },
    {
     "name": "stderr",
     "output_type": "stream",
     "text": [
      "Batches: 100%|██████████| 1/1 [00:00<00:00, 111.14it/s]"
     ]
    },
    {
     "name": "stdout",
     "output_type": "stream",
     "text": [
      "Generated embeddings with shape: (1, 384)\n",
      "Retrieved 3 documents after filtering by score threshold.\n"
     ]
    },
    {
     "name": "stderr",
     "output_type": "stream",
     "text": [
      "\n"
     ]
    },
    {
     "name": "stdout",
     "output_type": "stream",
     "text": [
      "💡 GENERATED ANSWER:\n",
      "====================================================================================================\n",
      "Rohan's technical skills include:\n",
      "\n",
      "* **Languages:** Java, C, C++, Python, HTML\n",
      "* **Frameworks:** Pandas, OpenCV, Tesseract OCR, Tkinter, TensorFlow, REST API, ComfyUI, AWS\n",
      "* **Tools/Platforms:** VS Code, IntelliJ IDEA, Git, GitHub, Canva, Linux/Unix \n",
      "\n",
      "====================================================================================================\n",
      "\n",
      "📚 SOURCES & EVIDENCE:\n",
      "----------------------------------------------------------------------------------------------------\n",
      "\n",
      "┌─ SOURCE #1\n",
      "│  📄 File: ..\\data\\pdf_files\\rohan_cv_aug.pdf\n",
      "│  📖 Page: 0\n",
      "│  🎯 Similarity Score: 0.3863 (38.63%)\n",
      "│\n",
      "│  📝 Preview:\n",
      "│  GitHub: github.com/PhoneixDeadeye\n",
      "LinkedIn: linkedin.com/in/rohan-agarwal007/\n",
      "Email: agarwalrohan2004@gmail.com\n",
      "Mobile: ...\n",
      "└──────────────────────────────────────────────────────────────────────────────────────────────────\n",
      "\n",
      "┌─ SOURCE #2\n",
      "│  📄 File: ..\\data\\pdf_files\\rohan_cv_aug.pdf\n",
      "│  📖 Page: 0\n",
      "│  🎯 Similarity Score: 0.3863 (38.63%)\n",
      "│\n",
      "│  📝 Preview:\n",
      "│  GitHub: github.com/PhoneixDeadeye\n",
      "LinkedIn: linkedin.com/in/rohan-agarwal007/\n",
      "Email: agarwalrohan2004@gmail.com\n",
      "Mobile: ...\n",
      "└──────────────────────────────────────────────────────────────────────────────────────────────────\n",
      "\n",
      "┌─ SOURCE #3\n",
      "│  📄 File: ..\\data\\pdf_files\\rohan_cv_aug.pdf\n",
      "│  📖 Page: 0\n",
      "│  🎯 Similarity Score: 0.3863 (38.63%)\n",
      "│\n",
      "│  📝 Preview:\n",
      "│  GitHub: github.com/PhoneixDeadeye\n",
      "LinkedIn: linkedin.com/in/rohan-agarwal007/\n",
      "Email: agarwalrohan2004@gmail.com\n",
      "Mobile: ...\n",
      "└──────────────────────────────────────────────────────────────────────────────────────────────────\n",
      "\n",
      "📊 RETRIEVAL METRICS:\n",
      "----------------------------------------------------------------------------------------------------\n",
      "✅ Overall Confidence: 0.3863 (38.63%)\n",
      "📦 Documents Retrieved: 3\n",
      "\n",
      "🔎 DETAILED CONTEXT INFORMATION:\n",
      "----------------------------------------------------------------------------------------------------\n",
      "\n",
      "├─ CONTEXT #1\n",
      "│  🆔 Document ID: doc_a6baa274_0\n",
      "│  🏆 Rank: #1\n",
      "│  📏 Distance: 0.613654\n",
      "│  📐 Similarity: 0.386346\n",
      "│  📝 Content Length: 465 characters\n",
      "│\n",
      "│  📄 Metadata:\n",
      "│     • author: \n",
      "│     • creationDate: D:20250827082526Z\n",
      "│     • doc_index: 0\n",
      "│     • title: \n",
      "│     • content_length: 465\n",
      "│     • producer: pdfTeX-1.40.26\n",
      "│     • source: ..\\data\\pdf_files\\rohan_cv_aug.pdf\n",
      "│     • total_pages: 1\n",
      "│     • creationdate: 2025-08-27T08:25:26+00:00\n",
      "│     • keywords: \n",
      "│     • trapped: \n",
      "│     • page: 0\n",
      "│     • moddate: 2025-08-27T08:25:26+00:00\n",
      "│     • creator: LaTeX with hyperref\n",
      "│     • subject: \n",
      "│     • modDate: D:20250827082526Z\n",
      "│     • format: PDF 1.5\n",
      "│     • file_path: ..\\data\\pdf_files\\rohan_cv_aug.pdf\n",
      "│\n",
      "│  📋 Content Snippet:\n",
      "│     GitHub: github.com/PhoneixDeadeye LinkedIn: linkedin.com/in/rohan-agarwal007/ Email: agarwalrohan2004@gmail.com Mobile: +91-9811229836 Skills Languages: Java, C, C++, Python, HTML Frameworks: Pandas, ...\n",
      "\n",
      "├─ CONTEXT #2\n",
      "│  🆔 Document ID: doc_7565225b_0\n",
      "│  🏆 Rank: #2\n",
      "│  📏 Distance: 0.613654\n",
      "│  📐 Similarity: 0.386346\n",
      "│  📝 Content Length: 465 characters\n",
      "│\n",
      "│  📄 Metadata:\n",
      "│     • trapped: \n",
      "│     • creationDate: D:20250827082526Z\n",
      "│     • keywords: \n",
      "│     • file_path: ..\\data\\pdf_files\\rohan_cv_aug.pdf\n",
      "│     • format: PDF 1.5\n",
      "│     • moddate: 2025-08-27T08:25:26+00:00\n",
      "│     • creator: LaTeX with hyperref\n",
      "│     • total_pages: 1\n",
      "│     • modDate: D:20250827082526Z\n",
      "│     • producer: pdfTeX-1.40.26\n",
      "│     • author: \n",
      "│     • title: \n",
      "│     • content_length: 465\n",
      "│     • doc_index: 0\n",
      "│     • creationdate: 2025-08-27T08:25:26+00:00\n",
      "│     • subject: \n",
      "│     • page: 0\n",
      "│     • source: ..\\data\\pdf_files\\rohan_cv_aug.pdf\n",
      "│\n",
      "│  📋 Content Snippet:\n",
      "│     GitHub: github.com/PhoneixDeadeye LinkedIn: linkedin.com/in/rohan-agarwal007/ Email: agarwalrohan2004@gmail.com Mobile: +91-9811229836 Skills Languages: Java, C, C++, Python, HTML Frameworks: Pandas, ...\n",
      "\n",
      "├─ CONTEXT #3\n",
      "│  🆔 Document ID: doc_575a5a1b_0\n",
      "│  🏆 Rank: #3\n",
      "│  📏 Distance: 0.613654\n",
      "│  📐 Similarity: 0.386346\n",
      "│  📝 Content Length: 465 characters\n",
      "│\n",
      "│  📄 Metadata:\n",
      "│     • creationdate: 2025-08-27T08:25:26+00:00\n",
      "│     • modDate: D:20250827082526Z\n",
      "│     • format: PDF 1.5\n",
      "│     • page: 0\n",
      "│     • keywords: \n",
      "│     • doc_index: 0\n",
      "│     • trapped: \n",
      "│     • title: \n",
      "│     • total_pages: 1\n",
      "│     • moddate: 2025-08-27T08:25:26+00:00\n",
      "│     • creator: LaTeX with hyperref\n",
      "│     • source: ..\\data\\pdf_files\\rohan_cv_aug.pdf\n",
      "│     • producer: pdfTeX-1.40.26\n",
      "│     • subject: \n",
      "│     • creationDate: D:20250827082526Z\n",
      "│     • file_path: ..\\data\\pdf_files\\rohan_cv_aug.pdf\n",
      "│     • content_length: 465\n",
      "│     • author: \n",
      "│\n",
      "│  📋 Content Snippet:\n",
      "│     GitHub: github.com/PhoneixDeadeye LinkedIn: linkedin.com/in/rohan-agarwal007/ Email: agarwalrohan2004@gmail.com Mobile: +91-9811229836 Skills Languages: Java, C, C++, Python, HTML Frameworks: Pandas, ...\n",
      "└──────────────────────────────────────────────────────────────────────────────────────────────────\n",
      "\n",
      "====================================================================================================\n",
      "✅ Query Completed Successfully!\n",
      "====================================================================================================\n"
     ]
    }
   ],
   "source": [
    "# ===== ENHANCED RAG QUERY DEMO =====\n",
    "import json\n",
    "\n",
    "print(\"🔍 RAG ENHANCED QUERY DEMO\")\n",
    "print(\"=\" * 100)\n",
    "print()\n",
    "\n",
    "# Execute the enhanced RAG query\n",
    "query = \"What are Rohan's technical skills?\"\n",
    "print(f\"📋 Query: '{query}'\")\n",
    "print(f\"⚙️  Parameters: top_k=3, min_score=0.1, return_contexts=True\")\n",
    "print(\"-\" * 100)\n",
    "print()\n",
    "\n",
    "result = rag_enhanced(query, rag_retriever, llm, top_k=3, min_score=0.1, return_contexts=True)\n",
    "\n",
    "# ===== DISPLAY THE ANSWER =====\n",
    "print(\"💡 GENERATED ANSWER:\")\n",
    "print(\"=\" * 100)\n",
    "print(result['answer'])\n",
    "print(\"=\" * 100)\n",
    "print()\n",
    "\n",
    "# ===== DISPLAY SOURCES =====\n",
    "print(\"📚 SOURCES & EVIDENCE:\")\n",
    "print(\"-\" * 100)\n",
    "for i, source in enumerate(result['sources'], 1):\n",
    "    print(f\"\\n┌─ SOURCE #{i}\")\n",
    "    print(f\"│  📄 File: {source['source']}\")\n",
    "    print(f\"│  📖 Page: {source['page']}\")\n",
    "    print(f\"│  🎯 Similarity Score: {source['score']:.4f} ({source['score']*100:.2f}%)\")\n",
    "    print(f\"│\")\n",
    "    print(f\"│  📝 Preview:\")\n",
    "    print(f\"│  {source['preview']}\")\n",
    "    print(f\"└{'─' * 98}\")\n",
    "\n",
    "print()\n",
    "\n",
    "# ===== DISPLAY CONFIDENCE & METRICS =====\n",
    "print(\"📊 RETRIEVAL METRICS:\")\n",
    "print(\"-\" * 100)\n",
    "print(f\"✅ Overall Confidence: {result['confidence']:.4f} ({result['confidence']*100:.2f}%)\")\n",
    "print(f\"📦 Documents Retrieved: {len(result['sources'])}\")\n",
    "\n",
    "# ===== DISPLAY DETAILED CONTEXT INFO =====\n",
    "if 'contexts' in result:\n",
    "    print()\n",
    "    print(\"🔎 DETAILED CONTEXT INFORMATION:\")\n",
    "    print(\"-\" * 100)\n",
    "    for i, ctx in enumerate(result['contexts'], 1):\n",
    "        print(f\"\\n├─ CONTEXT #{i}\")\n",
    "        print(f\"│  🆔 Document ID: {ctx['id']}\")\n",
    "        print(f\"│  🏆 Rank: #{ctx['rank']}\")\n",
    "        print(f\"│  📏 Distance: {ctx['distance']:.6f}\")\n",
    "        print(f\"│  📐 Similarity: {ctx['similarity_score']:.6f}\")\n",
    "        print(f\"│  📝 Content Length: {len(ctx['content'])} characters\")\n",
    "        print(f\"│\")\n",
    "        print(f\"│  📄 Metadata:\")\n",
    "        for key, value in ctx['metadata'].items():\n",
    "            print(f\"│     • {key}: {value}\")\n",
    "        print(f\"│\")\n",
    "        print(f\"│  📋 Content Snippet:\")\n",
    "        snippet = ctx['content'][:200].replace('\\n', ' ')\n",
    "        print(f\"│     {snippet}...\")\n",
    "    print(f\"└{'─' * 98}\")\n",
    "\n",
    "print()\n",
    "print(\"=\" * 100)\n",
    "print(\"✅ Query Completed Successfully!\")\n",
    "print(\"=\" * 100)"
   ]
  }
 ],
 "metadata": {
  "kernelspec": {
   "display_name": "rag",
   "language": "python",
   "name": "python3"
  },
  "language_info": {
   "codemirror_mode": {
    "name": "ipython",
    "version": 3
   },
   "file_extension": ".py",
   "mimetype": "text/x-python",
   "name": "python",
   "nbconvert_exporter": "python",
   "pygments_lexer": "ipython3",
   "version": "3.11.9"
  }
 },
 "nbformat": 4,
 "nbformat_minor": 5
}
