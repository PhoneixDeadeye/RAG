{
 "cells": [
  {
   "cell_type": "markdown",
   "id": "37c0a440",
   "metadata": {},
   "source": [
    "### Data Ingestion"
   ]
  },
  {
   "cell_type": "code",
   "execution_count": 1,
   "id": "88c7c007",
   "metadata": {},
   "outputs": [],
   "source": [
    "### Document Structure\n",
    "\n",
    "from langchain_core.documents import Document"
   ]
  },
  {
   "cell_type": "code",
   "execution_count": 2,
   "id": "a4a59913",
   "metadata": {},
   "outputs": [
    {
     "data": {
      "text/plain": [
       "Document(metadata={'source': 'example.txt', 'pages': 1, 'author': 'Rohan', 'date_created': '2025-10-05'}, page_content='This is the content of the document I am using to create RAG.')"
      ]
     },
     "execution_count": 2,
     "metadata": {},
     "output_type": "execute_result"
    }
   ],
   "source": [
    "doc = Document(\n",
    "    page_content=\"This is the content of the document I am using to create RAG.\",\n",
    "    metadata={\n",
    "        \"source\": \"example.txt\",\n",
    "        \"pages\": 1,\n",
    "        \"author\": \"Rohan\",\n",
    "        \"date_created\": \"2025-10-05\"\n",
    "    }\n",
    ")\n",
    "doc"
   ]
  },
  {
   "cell_type": "code",
   "execution_count": 3,
   "id": "3960c860",
   "metadata": {},
   "outputs": [],
   "source": [
    "## Create a simple txt file\n",
    "import os \n",
    "os.makedirs(\"../data/text_files\", exist_ok=True)"
   ]
  },
  {
   "cell_type": "code",
   "execution_count": 4,
   "id": "e0178ca2",
   "metadata": {},
   "outputs": [
    {
     "name": "stdout",
     "output_type": "stream",
     "text": [
      "Sample text files created successfully.\n"
     ]
    }
   ],
   "source": [
    "sample_texts = {\n",
    "    \"../data/text_files/python_intro.txt\": \"\"\"Python Programming Introduction\n",
    "\n",
    "Python is a high-level, interpreted programming language known for its simplicity and readability.\n",
    "It was created by Guido van Rossum and first released in 1991. Python supports multiple programming paradigms, \n",
    "including procedural, object-oriented, and functional programming.  \n",
    "\n",
    "Key Features of Python:\n",
    "- Easy to Learn and Use: Python's syntax is clear and concise, making it an excellent choice for beginners.\n",
    "- Extensive Standard Library: Python comes with a vast standard library that provides modules and functions for various tasks, such as file I/O, regular expressions, and web development.\n",
    "- Cross-Platform Compatibility: Python is available on various operating systems, including Windows, macOS, and Linux.\n",
    "- Large Community: Python has a vibrant community that contributes to a rich ecosystem of third-party libraries\n",
    "\"\"\"\n",
    "}\n",
    "\n",
    "for filepath, content in sample_texts.items():\n",
    "    with open(filepath, \"w\", encoding=\"utf-8\") as f:\n",
    "        f.write(content)\n",
    "\n",
    "print(\"Sample text files created successfully.\")"
   ]
  },
  {
   "cell_type": "code",
   "execution_count": 5,
   "id": "6f1b4e84",
   "metadata": {},
   "outputs": [
    {
     "name": "stdout",
     "output_type": "stream",
     "text": [
      "[Document(metadata={'source': '../data/text_files/python_intro.txt'}, page_content=\"Python Programming Introduction\\n\\nPython is a high-level, interpreted programming language known for its simplicity and readability.\\nIt was created by Guido van Rossum and first released in 1991. Python supports multiple programming paradigms, \\nincluding procedural, object-oriented, and functional programming.  \\n\\nKey Features of Python:\\n- Easy to Learn and Use: Python's syntax is clear and concise, making it an excellent choice for beginners.\\n- Extensive Standard Library: Python comes with a vast standard library that provides modules and functions for various tasks, such as file I/O, regular expressions, and web development.\\n- Cross-Platform Compatibility: Python is available on various operating systems, including Windows, macOS, and Linux.\\n- Large Community: Python has a vibrant community that contributes to a rich ecosystem of third-party libraries\\n\")]\n"
     ]
    }
   ],
   "source": [
    "### TextLoader\n",
    "from langchain.document_loaders import TextLoader\n",
    "\n",
    "from langchain_community.document_loaders import TextLoader\n",
    "\n",
    "loader = TextLoader(\"../data/text_files/python_intro.txt\", encoding=\"utf-8\")\n",
    "document = loader.load()  # List of Document objects\n",
    "print(document)"
   ]
  },
  {
   "cell_type": "code",
   "execution_count": 6,
   "id": "6fae00b7",
   "metadata": {},
   "outputs": [
    {
     "name": "stderr",
     "output_type": "stream",
     "text": [
      "100%|██████████| 1/1 [00:00<?, ?it/s]\n"
     ]
    },
    {
     "data": {
      "text/plain": [
       "[Document(metadata={'source': '..\\\\data\\\\text_files\\\\python_intro.txt'}, page_content=\"Python Programming Introduction\\n\\nPython is a high-level, interpreted programming language known for its simplicity and readability.\\nIt was created by Guido van Rossum and first released in 1991. Python supports multiple programming paradigms, \\nincluding procedural, object-oriented, and functional programming.  \\n\\nKey Features of Python:\\n- Easy to Learn and Use: Python's syntax is clear and concise, making it an excellent choice for beginners.\\n- Extensive Standard Library: Python comes with a vast standard library that provides modules and functions for various tasks, such as file I/O, regular expressions, and web development.\\n- Cross-Platform Compatibility: Python is available on various operating systems, including Windows, macOS, and Linux.\\n- Large Community: Python has a vibrant community that contributes to a rich ecosystem of third-party libraries\\n\")]"
      ]
     },
     "execution_count": 6,
     "metadata": {},
     "output_type": "execute_result"
    }
   ],
   "source": [
    "### Directory Loader\n",
    "from langchain_community.document_loaders import DirectoryLoader\n",
    "\n",
    "## Load all the text files from the directory\n",
    "dir_loader = DirectoryLoader(\n",
    "    \"../data/text_files\",\n",
    "    glob=\"**/*.txt\", ## Pattern to match files\n",
    "    loader_cls=TextLoader, ## Loader class to use for loading files\n",
    "    loader_kwargs={\"encoding\": \"utf-8\"}, ## Additional arguments for the loader class\n",
    "    show_progress=True\n",
    ")\n",
    "documents = dir_loader.load()\n",
    "documents"
   ]
  },
  {
   "cell_type": "code",
   "execution_count": 7,
   "id": "f21bb4d2",
   "metadata": {},
   "outputs": [],
   "source": [
    "from langchain_community.document_loaders import PyPDFLoader, PyMuPDFLoader"
   ]
  }
 ],
 "metadata": {
  "kernelspec": {
   "display_name": "rag",
   "language": "python",
   "name": "python3"
  },
  "language_info": {
   "codemirror_mode": {
    "name": "ipython",
    "version": 3
   },
   "file_extension": ".py",
   "mimetype": "text/x-python",
   "name": "python",
   "nbconvert_exporter": "python",
   "pygments_lexer": "ipython3",
   "version": "3.11.9"
  }
 },
 "nbformat": 4,
 "nbformat_minor": 5
}
